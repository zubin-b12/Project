{
 "cells": [
  {
   "cell_type": "markdown",
   "metadata": {},
   "source": [
    "## Importing all the necessary Libraries"
   ]
  },
  {
   "cell_type": "code",
   "execution_count": 2,
   "metadata": {},
   "outputs": [],
   "source": [
    "import pandas as pd\n",
    "import numpy as np\n",
    "from sklearn.linear_model import LinearRegression as lr\n",
    "from sklearn.model_selection import train_test_split as tt\n",
    "from sklearn.ensemble import RandomForestClassifier\n",
    "from matplotlib import pyplot as plt"
   ]
  },
  {
   "cell_type": "markdown",
   "metadata": {},
   "source": [
    "## Loading the cleaned Data File"
   ]
  },
  {
   "cell_type": "code",
   "execution_count": 6,
   "metadata": {},
   "outputs": [],
   "source": [
    "df = pd.read_csv('StudentsPerformance_Clean.csv')"
   ]
  },
  {
   "cell_type": "markdown",
   "metadata": {},
   "source": [
    "## Creating Linear Model"
   ]
  },
  {
   "cell_type": "code",
   "execution_count": 8,
   "metadata": {},
   "outputs": [],
   "source": [
    "model = lr()"
   ]
  },
  {
   "cell_type": "markdown",
   "metadata": {},
   "source": [
    "## Prediction of Math Scores"
   ]
  },
  {
   "cell_type": "code",
   "execution_count": 11,
   "metadata": {},
   "outputs": [
    {
     "data": {
      "text/html": [
       "<div>\n",
       "<style scoped>\n",
       "    .dataframe tbody tr th:only-of-type {\n",
       "        vertical-align: middle;\n",
       "    }\n",
       "\n",
       "    .dataframe tbody tr th {\n",
       "        vertical-align: top;\n",
       "    }\n",
       "\n",
       "    .dataframe thead th {\n",
       "        text-align: right;\n",
       "    }\n",
       "</style>\n",
       "<table border=\"1\" class=\"dataframe\">\n",
       "  <thead>\n",
       "    <tr style=\"text-align: right;\">\n",
       "      <th></th>\n",
       "      <th>Unnamed: 0</th>\n",
       "      <th>gender</th>\n",
       "      <th>race/ethnicity</th>\n",
       "      <th>parental level of education</th>\n",
       "      <th>lunch</th>\n",
       "      <th>test preparation course</th>\n",
       "      <th>math score</th>\n",
       "      <th>reading score</th>\n",
       "      <th>writing score</th>\n",
       "      <th>race/ethnicity_map</th>\n",
       "      <th>...</th>\n",
       "      <th>gender_map</th>\n",
       "      <th>total_score</th>\n",
       "      <th>pass/fail</th>\n",
       "      <th>percentage</th>\n",
       "      <th>grade</th>\n",
       "      <th>math_passfail</th>\n",
       "      <th>reading_passfail</th>\n",
       "      <th>writing_passfail</th>\n",
       "      <th>pass/fail_map</th>\n",
       "      <th>grade_map</th>\n",
       "    </tr>\n",
       "  </thead>\n",
       "  <tbody>\n",
       "    <tr>\n",
       "      <th>0</th>\n",
       "      <td>0</td>\n",
       "      <td>female</td>\n",
       "      <td>group B</td>\n",
       "      <td>bachelor's degree</td>\n",
       "      <td>standard</td>\n",
       "      <td>none</td>\n",
       "      <td>72</td>\n",
       "      <td>72</td>\n",
       "      <td>74</td>\n",
       "      <td>2</td>\n",
       "      <td>...</td>\n",
       "      <td>1</td>\n",
       "      <td>218</td>\n",
       "      <td>Pass</td>\n",
       "      <td>72.666667</td>\n",
       "      <td>First</td>\n",
       "      <td>1</td>\n",
       "      <td>1</td>\n",
       "      <td>1</td>\n",
       "      <td>1</td>\n",
       "      <td>2</td>\n",
       "    </tr>\n",
       "    <tr>\n",
       "      <th>1</th>\n",
       "      <td>1</td>\n",
       "      <td>female</td>\n",
       "      <td>group C</td>\n",
       "      <td>some college</td>\n",
       "      <td>standard</td>\n",
       "      <td>completed</td>\n",
       "      <td>69</td>\n",
       "      <td>90</td>\n",
       "      <td>88</td>\n",
       "      <td>3</td>\n",
       "      <td>...</td>\n",
       "      <td>1</td>\n",
       "      <td>247</td>\n",
       "      <td>Pass</td>\n",
       "      <td>82.333333</td>\n",
       "      <td>Distinction</td>\n",
       "      <td>1</td>\n",
       "      <td>1</td>\n",
       "      <td>1</td>\n",
       "      <td>1</td>\n",
       "      <td>1</td>\n",
       "    </tr>\n",
       "    <tr>\n",
       "      <th>2</th>\n",
       "      <td>2</td>\n",
       "      <td>female</td>\n",
       "      <td>group B</td>\n",
       "      <td>master's degree</td>\n",
       "      <td>standard</td>\n",
       "      <td>none</td>\n",
       "      <td>90</td>\n",
       "      <td>95</td>\n",
       "      <td>93</td>\n",
       "      <td>2</td>\n",
       "      <td>...</td>\n",
       "      <td>1</td>\n",
       "      <td>278</td>\n",
       "      <td>Pass</td>\n",
       "      <td>92.666667</td>\n",
       "      <td>Distinction</td>\n",
       "      <td>1</td>\n",
       "      <td>1</td>\n",
       "      <td>1</td>\n",
       "      <td>1</td>\n",
       "      <td>1</td>\n",
       "    </tr>\n",
       "    <tr>\n",
       "      <th>3</th>\n",
       "      <td>3</td>\n",
       "      <td>male</td>\n",
       "      <td>group A</td>\n",
       "      <td>associate's degree</td>\n",
       "      <td>free/reduced</td>\n",
       "      <td>none</td>\n",
       "      <td>47</td>\n",
       "      <td>57</td>\n",
       "      <td>44</td>\n",
       "      <td>1</td>\n",
       "      <td>...</td>\n",
       "      <td>2</td>\n",
       "      <td>148</td>\n",
       "      <td>Pass</td>\n",
       "      <td>49.333333</td>\n",
       "      <td>Second</td>\n",
       "      <td>1</td>\n",
       "      <td>1</td>\n",
       "      <td>1</td>\n",
       "      <td>1</td>\n",
       "      <td>3</td>\n",
       "    </tr>\n",
       "    <tr>\n",
       "      <th>4</th>\n",
       "      <td>4</td>\n",
       "      <td>male</td>\n",
       "      <td>group C</td>\n",
       "      <td>some college</td>\n",
       "      <td>standard</td>\n",
       "      <td>none</td>\n",
       "      <td>76</td>\n",
       "      <td>78</td>\n",
       "      <td>75</td>\n",
       "      <td>3</td>\n",
       "      <td>...</td>\n",
       "      <td>2</td>\n",
       "      <td>229</td>\n",
       "      <td>Pass</td>\n",
       "      <td>76.333333</td>\n",
       "      <td>First</td>\n",
       "      <td>1</td>\n",
       "      <td>1</td>\n",
       "      <td>1</td>\n",
       "      <td>1</td>\n",
       "      <td>2</td>\n",
       "    </tr>\n",
       "  </tbody>\n",
       "</table>\n",
       "<p>5 rows × 23 columns</p>\n",
       "</div>"
      ],
      "text/plain": [
       "   Unnamed: 0  gender race/ethnicity parental level of education  \\\n",
       "0           0  female        group B           bachelor's degree   \n",
       "1           1  female        group C                some college   \n",
       "2           2  female        group B             master's degree   \n",
       "3           3    male        group A          associate's degree   \n",
       "4           4    male        group C                some college   \n",
       "\n",
       "          lunch test preparation course  math score  reading score  \\\n",
       "0      standard                    none          72             72   \n",
       "1      standard               completed          69             90   \n",
       "2      standard                    none          90             95   \n",
       "3  free/reduced                    none          47             57   \n",
       "4      standard                    none          76             78   \n",
       "\n",
       "   writing score  race/ethnicity_map    ...      gender_map  total_score  \\\n",
       "0             74                   2    ...               1          218   \n",
       "1             88                   3    ...               1          247   \n",
       "2             93                   2    ...               1          278   \n",
       "3             44                   1    ...               2          148   \n",
       "4             75                   3    ...               2          229   \n",
       "\n",
       "   pass/fail  percentage        grade math_passfail  reading_passfail  \\\n",
       "0       Pass   72.666667        First             1                 1   \n",
       "1       Pass   82.333333  Distinction             1                 1   \n",
       "2       Pass   92.666667  Distinction             1                 1   \n",
       "3       Pass   49.333333       Second             1                 1   \n",
       "4       Pass   76.333333        First             1                 1   \n",
       "\n",
       "  writing_passfail  pass/fail_map  grade_map  \n",
       "0                1              1          2  \n",
       "1                1              1          1  \n",
       "2                1              1          1  \n",
       "3                1              1          3  \n",
       "4                1              1          2  \n",
       "\n",
       "[5 rows x 23 columns]"
      ]
     },
     "execution_count": 11,
     "metadata": {},
     "output_type": "execute_result"
    }
   ],
   "source": [
    "df.head()"
   ]
  },
  {
   "cell_type": "code",
   "execution_count": 13,
   "metadata": {},
   "outputs": [],
   "source": [
    "#Features:\n",
    "X = df[['test preparation course_map','gender_map','writing score','reading score','grade_map','pass/fail_map']]\n",
    "#Target Values:\n",
    "y = df['math score']"
   ]
  },
  {
   "cell_type": "code",
   "execution_count": 14,
   "metadata": {},
   "outputs": [],
   "source": [
    "X_train,X_test,y_train,y_test=tt(X,y,test_size=0.2,random_state=12)"
   ]
  },
  {
   "cell_type": "markdown",
   "metadata": {},
   "source": [
    "## Inserting the X_train and y_train in linear model"
   ]
  },
  {
   "cell_type": "code",
   "execution_count": 16,
   "metadata": {},
   "outputs": [
    {
     "data": {
      "text/plain": [
       "LinearRegression(copy_X=True, fit_intercept=True, n_jobs=None,\n",
       "         normalize=False)"
      ]
     },
     "execution_count": 16,
     "metadata": {},
     "output_type": "execute_result"
    }
   ],
   "source": [
    "model.fit(X_train,y_train)"
   ]
  },
  {
   "cell_type": "code",
   "execution_count": 17,
   "metadata": {},
   "outputs": [
    {
     "data": {
      "text/plain": [
       "0.868616396255397"
      ]
     },
     "execution_count": 17,
     "metadata": {},
     "output_type": "execute_result"
    }
   ],
   "source": [
    "model.score(X_test,y_test)"
   ]
  },
  {
   "cell_type": "markdown",
   "metadata": {},
   "source": [
    "## Predicting the math score with X_test"
   ]
  },
  {
   "cell_type": "code",
   "execution_count": 20,
   "metadata": {},
   "outputs": [
    {
     "data": {
      "text/plain": [
       "array([65.9490595 , 63.56416797, 71.89580302, 84.21925936, 85.09864172,\n",
       "       65.9335742 , 64.75661373, 67.18715565, 68.41030254, 50.55158526,\n",
       "       93.13136789, 96.9451476 , 59.51459578, 73.41652801, 54.21052566,\n",
       "       26.65568512, 48.97310937, 87.62155648, 66.68356971, 61.60597484,\n",
       "       59.67350072, 64.52017132, 82.24611696, 71.98763983, 69.08421309,\n",
       "       62.81888802, 53.0283136 , 56.46656343, 39.66366616, 55.18699643,\n",
       "       76.90609413, 58.01342173, 71.94670501, 66.70403712, 42.45007312,\n",
       "       75.81165325, 61.83218355, 72.92317577, 70.05516571, 75.14851243,\n",
       "       66.3757579 , 66.67885415, 67.13127156, 68.91914007, 48.64981226,\n",
       "       26.93777792, 77.53340396, 62.10457867, 55.67011495, 68.89867266,\n",
       "       77.19895667, 53.33140984, 48.64981226, 49.11246338, 75.81165325,\n",
       "       82.91949149, 47.20045667, 63.71348914, 39.0488439 , 85.34531784,\n",
       "       71.97740613, 47.43689908, 57.35591296, 61.11262261, 50.20648996,\n",
       "       68.44625525, 59.80745832, 48.9529085 , 83.67500514, 59.09813108,\n",
       "       83.00661273, 77.87233119, 70.31207554, 56.3999096 , 70.26642515,\n",
       "       65.34180278, 57.84926519, 65.42998826, 62.5876972 , 56.21988732,\n",
       "       77.99080348, 61.86813626, 44.85151785, 66.62243402, 58.0754739 ,\n",
       "       60.69615791, 60.23415672, 66.51378113, 68.66223025, 81.78346585,\n",
       "       84.63100849, 79.1518982 , 68.31846573, 66.43217803, 79.9130439 ,\n",
       "       87.04660114, 84.86745091, 69.27446908, 65.68689808, 78.11900731,\n",
       "       94.06690384, 77.30719525, 55.63876391, 63.74419026, 49.34890579,\n",
       "       74.18227537, 70.98598609, 78.43298719, 78.59189213, 67.38818138,\n",
       "       68.55490814, 92.64824936, 82.18969684, 80.53459996, 85.44240624,\n",
       "       69.34583848, 73.69915684, 43.62311938, 78.17542743, 57.36614666,\n",
       "       50.08893414, 42.0690251 , 64.72066102, 25.43752035, 36.69358559,\n",
       "       53.35187726, 79.63566666, 63.50774784, 45.54535979, 77.00409901,\n",
       "       46.26492073, 72.47075836, 51.03470379, 49.28118772, 53.51143213,\n",
       "       90.36177702, 50.64342207, 65.67666437, 49.4407426 , 58.69702996,\n",
       "       66.17001661, 51.42963684, 76.54144789, 84.7228453 , 83.44879644,\n",
       "       45.10842768, 73.42676172, 48.69599868, 87.11797054, 68.36936771,\n",
       "       76.3511919 , 67.14150526, 75.57521083, 43.41239597, 67.15173897,\n",
       "       67.10555255, 67.87129991, 58.69702996, 76.7778903 , 89.96026159,\n",
       "       77.71277631, 67.12601996, 70.70335726, 71.02140277, 77.67184149,\n",
       "       86.1008315 , 79.5838482 , 57.36614666, 55.89632366, 89.30735448,\n",
       "       58.95393978, 67.32152755, 65.22949856, 68.12820974, 66.43217803,\n",
       "       66.11884808, 79.33192048, 92.89492548, 68.38983512, 64.98282244,\n",
       "       50.40226409, 69.99403002, 69.10939607, 57.60258907, 80.07720043,\n",
       "       54.78076543, 39.22673405, 78.68989701, 58.70726366, 66.44241173,\n",
       "       54.44696807, 53.26004045, 39.44769116, 75.04027384, 74.09450419,\n",
       "       70.85161419, 72.7636209 , 64.23754249, 79.65613407, 73.67343783])"
      ]
     },
     "execution_count": 20,
     "metadata": {},
     "output_type": "execute_result"
    }
   ],
   "source": [
    "prediction = model.predict(X_test)\n",
    "prediction"
   ]
  },
  {
   "cell_type": "code",
   "execution_count": 21,
   "metadata": {},
   "outputs": [
    {
     "data": {
      "image/png": "[encoded data removed]",
      "text/plain": [
       "<Figure size 432x288 with 1 Axes>"
      ]
     },
     "metadata": {
      "needs_background": "light"
     },
     "output_type": "display_data"
    }
   ],
   "source": [
    "plt.scatter(y_test, prediction)\n",
    "plt.xlabel('True Values')\n",
    "plt.ylabel('Predictions')\n",
    "plt.show()"
   ]
  },
  {
   "cell_type": "markdown",
   "metadata": {},
   "source": [
    "## Fitting X and y in RandomForestClassifier"
   ]
  },
  {
   "cell_type": "code",
   "execution_count": 23,
   "metadata": {},
   "outputs": [
    {
     "data": {
      "text/plain": [
       "RandomForestClassifier(bootstrap=True, class_weight=None, criterion='gini',\n",
       "            max_depth=2, max_features='auto', max_leaf_nodes=None,\n",
       "            min_impurity_decrease=0.0, min_impurity_split=None,\n",
       "            min_samples_leaf=1, min_samples_split=2,\n",
       "            min_weight_fraction_leaf=0.0, n_estimators=100, n_jobs=None,\n",
       "            oob_score=False, random_state=0, verbose=0, warm_start=False)"
      ]
     },
     "execution_count": 23,
     "metadata": {},
     "output_type": "execute_result"
    }
   ],
   "source": [
    "cl = RandomForestClassifier(n_estimators = 100,max_depth = 2,random_state=0)\n",
    "cl.fit(X,y)"
   ]
  },
  {
   "cell_type": "markdown",
   "metadata": {},
   "source": [
    "## Checking Important Features"
   ]
  },
  {
   "cell_type": "code",
   "execution_count": 25,
   "metadata": {},
   "outputs": [
    {
     "data": {
      "text/plain": [
       "array([0.01956915, 0.05430579, 0.20308421, 0.28314038, 0.38120501,\n",
       "       0.05869547])"
      ]
     },
     "execution_count": 25,
     "metadata": {},
     "output_type": "execute_result"
    }
   ],
   "source": [
    "cl.feature_importances_"
   ]
  },
  {
   "cell_type": "code",
   "execution_count": 27,
   "metadata": {},
   "outputs": [
    {
     "data": {
      "text/html": [
       "<div>\n",
       "<style scoped>\n",
       "    .dataframe tbody tr th:only-of-type {\n",
       "        vertical-align: middle;\n",
       "    }\n",
       "\n",
       "    .dataframe tbody tr th {\n",
       "        vertical-align: top;\n",
       "    }\n",
       "\n",
       "    .dataframe thead th {\n",
       "        text-align: right;\n",
       "    }\n",
       "</style>\n",
       "<table border=\"1\" class=\"dataframe\">\n",
       "  <thead>\n",
       "    <tr style=\"text-align: right;\">\n",
       "      <th></th>\n",
       "      <th>feature</th>\n",
       "      <th>importance</th>\n",
       "    </tr>\n",
       "  </thead>\n",
       "  <tbody>\n",
       "    <tr>\n",
       "      <th>0</th>\n",
       "      <td>test preparation course_map</td>\n",
       "      <td>0.019569</td>\n",
       "    </tr>\n",
       "    <tr>\n",
       "      <th>1</th>\n",
       "      <td>gender_map</td>\n",
       "      <td>0.054306</td>\n",
       "    </tr>\n",
       "    <tr>\n",
       "      <th>2</th>\n",
       "      <td>writing score</td>\n",
       "      <td>0.203084</td>\n",
       "    </tr>\n",
       "    <tr>\n",
       "      <th>3</th>\n",
       "      <td>reading score</td>\n",
       "      <td>0.283140</td>\n",
       "    </tr>\n",
       "    <tr>\n",
       "      <th>4</th>\n",
       "      <td>grade_map</td>\n",
       "      <td>0.381205</td>\n",
       "    </tr>\n",
       "    <tr>\n",
       "      <th>5</th>\n",
       "      <td>pass/fail_map</td>\n",
       "      <td>0.058695</td>\n",
       "    </tr>\n",
       "  </tbody>\n",
       "</table>\n",
       "</div>"
      ],
      "text/plain": [
       "                       feature  importance\n",
       "0  test preparation course_map    0.019569\n",
       "1                   gender_map    0.054306\n",
       "2                writing score    0.203084\n",
       "3                reading score    0.283140\n",
       "4                    grade_map    0.381205\n",
       "5                pass/fail_map    0.058695"
      ]
     },
     "execution_count": 27,
     "metadata": {},
     "output_type": "execute_result"
    }
   ],
   "source": [
    "feature =['test preparation course_map','gender_map','writing score','reading score','grade_map','pass/fail_map']\n",
    "feature_imp = pd.DataFrame({'feature':feature,'importance':cl.feature_importances_})\n",
    "feature_imp"
   ]
  },
  {
   "cell_type": "code",
   "execution_count": 28,
   "metadata": {},
   "outputs": [
    {
     "data": {
      "text/plain": [
       "<matplotlib.axes._subplots.AxesSubplot at 0x46ba390>"
      ]
     },
     "execution_count": 28,
     "metadata": {},
     "output_type": "execute_result"
    },
    {
     "data": {
      "image/png": "[encoded data removed]",
      "text/plain": [
       "<Figure size 432x288 with 1 Axes>"
      ]
     },
     "metadata": {
      "needs_background": "light"
     },
     "output_type": "display_data"
    }
   ],
   "source": [
    "feature_imp.plot.bar()"
   ]
  },
  {
   "cell_type": "markdown",
   "metadata": {},
   "source": [
    "#### We can see that 'test preparation course_map' is the least important feature"
   ]
  },
  {
   "cell_type": "markdown",
   "metadata": {},
   "source": [
    "## Removing 'test preparation course_map'"
   ]
  },
  {
   "cell_type": "code",
   "execution_count": 31,
   "metadata": {},
   "outputs": [],
   "source": [
    "X1 = df[['gender_map','writing score','reading score','grade_map','pass/fail_map']]"
   ]
  },
  {
   "cell_type": "code",
   "execution_count": 32,
   "metadata": {},
   "outputs": [
    {
     "data": {
      "text/plain": [
       "RandomForestClassifier(bootstrap=True, class_weight=None, criterion='gini',\n",
       "            max_depth=2, max_features='auto', max_leaf_nodes=None,\n",
       "            min_impurity_decrease=0.0, min_impurity_split=None,\n",
       "            min_samples_leaf=1, min_samples_split=2,\n",
       "            min_weight_fraction_leaf=0.0, n_estimators=100, n_jobs=None,\n",
       "            oob_score=False, random_state=0, verbose=0, warm_start=False)"
      ]
     },
     "execution_count": 32,
     "metadata": {},
     "output_type": "execute_result"
    }
   ],
   "source": [
    "cl.fit(X1,y)"
   ]
  },
  {
   "cell_type": "code",
   "execution_count": 33,
   "metadata": {},
   "outputs": [
    {
     "data": {
      "text/plain": [
       "array([0.04394226, 0.19222226, 0.31285111, 0.39396099, 0.05702339])"
      ]
     },
     "execution_count": 33,
     "metadata": {},
     "output_type": "execute_result"
    }
   ],
   "source": [
    "cl.feature_importances_"
   ]
  },
  {
   "cell_type": "code",
   "execution_count": 35,
   "metadata": {},
   "outputs": [
    {
     "data": {
      "text/html": [
       "<div>\n",
       "<style scoped>\n",
       "    .dataframe tbody tr th:only-of-type {\n",
       "        vertical-align: middle;\n",
       "    }\n",
       "\n",
       "    .dataframe tbody tr th {\n",
       "        vertical-align: top;\n",
       "    }\n",
       "\n",
       "    .dataframe thead th {\n",
       "        text-align: right;\n",
       "    }\n",
       "</style>\n",
       "<table border=\"1\" class=\"dataframe\">\n",
       "  <thead>\n",
       "    <tr style=\"text-align: right;\">\n",
       "      <th></th>\n",
       "      <th>feature</th>\n",
       "      <th>importance</th>\n",
       "    </tr>\n",
       "  </thead>\n",
       "  <tbody>\n",
       "    <tr>\n",
       "      <th>0</th>\n",
       "      <td>gender_map</td>\n",
       "      <td>0.043942</td>\n",
       "    </tr>\n",
       "    <tr>\n",
       "      <th>1</th>\n",
       "      <td>writing score</td>\n",
       "      <td>0.192222</td>\n",
       "    </tr>\n",
       "    <tr>\n",
       "      <th>2</th>\n",
       "      <td>reading score</td>\n",
       "      <td>0.312851</td>\n",
       "    </tr>\n",
       "    <tr>\n",
       "      <th>3</th>\n",
       "      <td>grade_map</td>\n",
       "      <td>0.393961</td>\n",
       "    </tr>\n",
       "    <tr>\n",
       "      <th>4</th>\n",
       "      <td>pass/fail_map</td>\n",
       "      <td>0.057023</td>\n",
       "    </tr>\n",
       "  </tbody>\n",
       "</table>\n",
       "</div>"
      ],
      "text/plain": [
       "         feature  importance\n",
       "0     gender_map    0.043942\n",
       "1  writing score    0.192222\n",
       "2  reading score    0.312851\n",
       "3      grade_map    0.393961\n",
       "4  pass/fail_map    0.057023"
      ]
     },
     "execution_count": 35,
     "metadata": {},
     "output_type": "execute_result"
    }
   ],
   "source": [
    "feature1 =['gender_map','writing score','reading score','grade_map','pass/fail_map']\n",
    "feature1_imp = pd.DataFrame({'feature':feature1,'importance':cl.feature_importances_})\n",
    "feature1_imp"
   ]
  },
  {
   "cell_type": "code",
   "execution_count": 36,
   "metadata": {},
   "outputs": [
    {
     "data": {
      "text/plain": [
       "<matplotlib.axes._subplots.AxesSubplot at 0x1347fab0>"
      ]
     },
     "execution_count": 36,
     "metadata": {},
     "output_type": "execute_result"
    },
    {
     "data": {
      "image/png": "[encoded data removed]",
      "text/plain": [
       "<Figure size 432x288 with 1 Axes>"
      ]
     },
     "metadata": {
      "needs_background": "light"
     },
     "output_type": "display_data"
    }
   ],
   "source": [
    "feature1_imp.plot.bar()"
   ]
  },
  {
   "cell_type": "markdown",
   "metadata": {},
   "source": [
    "## Predicting math score after removing 'test preparation course_map'"
   ]
  },
  {
   "cell_type": "code",
   "execution_count": 38,
   "metadata": {},
   "outputs": [],
   "source": [
    "X1_train,X1_test,y1_train,y1_test = tt(X1,y,test_size=0.2,random_state=12)"
   ]
  },
  {
   "cell_type": "markdown",
   "metadata": {},
   "source": [
    "## Fitting X1_train and y1_train in linear model"
   ]
  },
  {
   "cell_type": "code",
   "execution_count": 40,
   "metadata": {},
   "outputs": [
    {
     "data": {
      "text/plain": [
       "LinearRegression(copy_X=True, fit_intercept=True, n_jobs=None,\n",
       "         normalize=False)"
      ]
     },
     "execution_count": 40,
     "metadata": {},
     "output_type": "execute_result"
    }
   ],
   "source": [
    "model.fit(X1_train,y1_train)"
   ]
  },
  {
   "cell_type": "code",
   "execution_count": 41,
   "metadata": {},
   "outputs": [
    {
     "data": {
      "text/plain": [
       "0.8562967009858017"
      ]
     },
     "execution_count": 41,
     "metadata": {},
     "output_type": "execute_result"
    }
   ],
   "source": [
    "model.score(X1_test,y1_test)"
   ]
  },
  {
   "cell_type": "code",
   "execution_count": 42,
   "metadata": {},
   "outputs": [
    {
     "data": {
      "text/plain": [
       "array([67.79362964, 65.24856873, 70.71262562, 86.45941426, 83.17979447,\n",
       "       64.34997335, 66.52109918, 66.43146597, 67.0286109 , 50.31266092,\n",
       "       93.94003444, 98.0571576 , 58.82737178, 72.41826451, 54.48895743,\n",
       "       29.99542969, 52.46855682, 88.62670278, 66.50778791, 60.53430065,\n",
       "       59.03856034, 66.22156739, 83.70445477, 70.84620226, 70.33677189,\n",
       "       61.35657408, 52.99129847, 58.15198626, 39.25801071, 55.01169908,\n",
       "       76.37264115, 60.83575109, 71.7467163 , 66.0575309 , 41.81830154,\n",
       "       74.73819691, 61.05896095, 72.26945794, 69.35046196, 76.60787229,\n",
       "       65.62442246, 68.241968  , 69.2912886 , 70.62107376, 48.14153509,\n",
       "       27.66026736, 79.1529332 , 64.35189201, 55.38563415, 71.07133077,\n",
       "       79.21531519, 55.608844  , 48.14153509, 48.96572718, 74.73819691,\n",
       "       81.60965087, 47.01972986, 63.68034379, 39.3120625 , 83.25419775,\n",
       "       71.07133077, 47.31926165, 56.80697117, 60.38549408, 52.84057324,\n",
       "       70.02201017, 61.67004583, 50.75908062, 85.27651701, 60.77145045,\n",
       "       83.4774076 , 77.1205113 , 69.19973673, 55.83397251, 71.83443085,\n",
       "       66.80348239, 56.95577774, 64.42629529, 64.72582708, 58.07758297,\n",
       "       76.3083405 , 64.05236022, 47.46806822, 65.69882575, 57.48043804,\n",
       "       62.32957274, 59.50083865, 68.52626986, 70.77179898, 82.88026267,\n",
       "       86.24951567, 80.26079848, 66.89503426, 68.16756471, 78.02920932,\n",
       "       88.11919106, 86.54904747, 67.86803292, 64.27557007, 77.19491458,\n",
       "       95.36329012, 78.6282729 , 58.06556168, 63.00495827, 49.26525897,\n",
       "       75.86000214, 72.50789772, 77.58278961, 77.79397817, 69.14056338,\n",
       "       67.19456605, 93.56609937, 81.16131251, 79.06458997, 87.05655918,\n",
       "       68.45186658, 75.48606706, 43.20213849, 79.73805684, 56.58184267,\n",
       "       49.48846883, 41.3528146 , 63.52769991, 25.50437146, 36.43056659,\n",
       "       55.15858699, 78.63019156, 62.70542648, 44.92300731, 76.01072736,\n",
       "       45.59647418, 71.22013734, 50.686596  , 51.19218906, 53.36523354,\n",
       "       88.41872285, 50.44623756, 64.50069858, 49.39883561, 58.51581869,\n",
       "       64.64950514, 53.43771817, 75.18653527, 86.38309232, 84.75185671,\n",
       "       47.31734299, 72.193136  , 50.90980585, 88.70302472, 67.92912493,\n",
       "       77.65527424, 69.06616009, 74.43866512, 46.12113448, 68.84103158,\n",
       "       66.07276082, 69.51449845, 58.51581869, 75.48606706, 88.40349292,\n",
       "       78.91386474, 65.62250381, 69.44009517, 70.09833211, 79.81437878,\n",
       "       86.92106389, 81.7603761 , 56.58184267, 55.91029445, 90.0480398 ,\n",
       "       58.36509347, 66.82254963, 67.12016277, 69.36377323, 68.16756471,\n",
       "       65.77514769, 78.01718802, 93.64050265, 67.47886792, 67.04575948,\n",
       "       51.88088585, 68.54149979, 68.15233479, 56.88137446, 81.90918267,\n",
       "       56.73064923, 41.65234639, 77.43206439, 58.29069019, 67.94243621,\n",
       "       54.78848922, 55.02501035, 38.5082219 , 77.19491458, 75.99678741,\n",
       "       72.11681406, 74.06281139, 63.15376484, 78.17993454, 72.26753929])"
      ]
     },
     "execution_count": 42,
     "metadata": {},
     "output_type": "execute_result"
    }
   ],
   "source": [
    "prediction1 = model.predict(X1_test)\n",
    "prediction1"
   ]
  },
  {
   "cell_type": "code",
   "execution_count": 43,
   "metadata": {
    "scrolled": true
   },
   "outputs": [
    {
     "data": {
      "text/html": [
       "<div>\n",
       "<style scoped>\n",
       "    .dataframe tbody tr th:only-of-type {\n",
       "        vertical-align: middle;\n",
       "    }\n",
       "\n",
       "    .dataframe tbody tr th {\n",
       "        vertical-align: top;\n",
       "    }\n",
       "\n",
       "    .dataframe thead th {\n",
       "        text-align: right;\n",
       "    }\n",
       "</style>\n",
       "<table border=\"1\" class=\"dataframe\">\n",
       "  <thead>\n",
       "    <tr style=\"text-align: right;\">\n",
       "      <th></th>\n",
       "      <th>With test preparation course</th>\n",
       "      <th>Without test preparation course</th>\n",
       "    </tr>\n",
       "  </thead>\n",
       "  <tbody>\n",
       "    <tr>\n",
       "      <th>0</th>\n",
       "      <td>65.949059</td>\n",
       "      <td>67.793630</td>\n",
       "    </tr>\n",
       "    <tr>\n",
       "      <th>1</th>\n",
       "      <td>63.564168</td>\n",
       "      <td>65.248569</td>\n",
       "    </tr>\n",
       "    <tr>\n",
       "      <th>2</th>\n",
       "      <td>71.895803</td>\n",
       "      <td>70.712626</td>\n",
       "    </tr>\n",
       "    <tr>\n",
       "      <th>3</th>\n",
       "      <td>84.219259</td>\n",
       "      <td>86.459414</td>\n",
       "    </tr>\n",
       "    <tr>\n",
       "      <th>4</th>\n",
       "      <td>85.098642</td>\n",
       "      <td>83.179794</td>\n",
       "    </tr>\n",
       "    <tr>\n",
       "      <th>5</th>\n",
       "      <td>65.933574</td>\n",
       "      <td>64.349973</td>\n",
       "    </tr>\n",
       "    <tr>\n",
       "      <th>6</th>\n",
       "      <td>64.756614</td>\n",
       "      <td>66.521099</td>\n",
       "    </tr>\n",
       "    <tr>\n",
       "      <th>7</th>\n",
       "      <td>67.187156</td>\n",
       "      <td>66.431466</td>\n",
       "    </tr>\n",
       "    <tr>\n",
       "      <th>8</th>\n",
       "      <td>68.410303</td>\n",
       "      <td>67.028611</td>\n",
       "    </tr>\n",
       "    <tr>\n",
       "      <th>9</th>\n",
       "      <td>50.551585</td>\n",
       "      <td>50.312661</td>\n",
       "    </tr>\n",
       "    <tr>\n",
       "      <th>10</th>\n",
       "      <td>93.131368</td>\n",
       "      <td>93.940034</td>\n",
       "    </tr>\n",
       "    <tr>\n",
       "      <th>11</th>\n",
       "      <td>96.945148</td>\n",
       "      <td>98.057158</td>\n",
       "    </tr>\n",
       "    <tr>\n",
       "      <th>12</th>\n",
       "      <td>59.514596</td>\n",
       "      <td>58.827372</td>\n",
       "    </tr>\n",
       "    <tr>\n",
       "      <th>13</th>\n",
       "      <td>73.416528</td>\n",
       "      <td>72.418265</td>\n",
       "    </tr>\n",
       "    <tr>\n",
       "      <th>14</th>\n",
       "      <td>54.210526</td>\n",
       "      <td>54.488957</td>\n",
       "    </tr>\n",
       "    <tr>\n",
       "      <th>15</th>\n",
       "      <td>26.655685</td>\n",
       "      <td>29.995430</td>\n",
       "    </tr>\n",
       "    <tr>\n",
       "      <th>16</th>\n",
       "      <td>48.973109</td>\n",
       "      <td>52.468557</td>\n",
       "    </tr>\n",
       "    <tr>\n",
       "      <th>17</th>\n",
       "      <td>87.621556</td>\n",
       "      <td>88.626703</td>\n",
       "    </tr>\n",
       "    <tr>\n",
       "      <th>18</th>\n",
       "      <td>66.683570</td>\n",
       "      <td>66.507788</td>\n",
       "    </tr>\n",
       "    <tr>\n",
       "      <th>19</th>\n",
       "      <td>61.605975</td>\n",
       "      <td>60.534301</td>\n",
       "    </tr>\n",
       "    <tr>\n",
       "      <th>20</th>\n",
       "      <td>59.673501</td>\n",
       "      <td>59.038560</td>\n",
       "    </tr>\n",
       "    <tr>\n",
       "      <th>21</th>\n",
       "      <td>64.520171</td>\n",
       "      <td>66.221567</td>\n",
       "    </tr>\n",
       "    <tr>\n",
       "      <th>22</th>\n",
       "      <td>82.246117</td>\n",
       "      <td>83.704455</td>\n",
       "    </tr>\n",
       "    <tr>\n",
       "      <th>23</th>\n",
       "      <td>71.987640</td>\n",
       "      <td>70.846202</td>\n",
       "    </tr>\n",
       "    <tr>\n",
       "      <th>24</th>\n",
       "      <td>69.084213</td>\n",
       "      <td>70.336772</td>\n",
       "    </tr>\n",
       "    <tr>\n",
       "      <th>25</th>\n",
       "      <td>62.818888</td>\n",
       "      <td>61.356574</td>\n",
       "    </tr>\n",
       "    <tr>\n",
       "      <th>26</th>\n",
       "      <td>53.028314</td>\n",
       "      <td>52.991298</td>\n",
       "    </tr>\n",
       "    <tr>\n",
       "      <th>27</th>\n",
       "      <td>56.466563</td>\n",
       "      <td>58.151986</td>\n",
       "    </tr>\n",
       "    <tr>\n",
       "      <th>28</th>\n",
       "      <td>39.663666</td>\n",
       "      <td>39.258011</td>\n",
       "    </tr>\n",
       "    <tr>\n",
       "      <th>29</th>\n",
       "      <td>55.186996</td>\n",
       "      <td>55.011699</td>\n",
       "    </tr>\n",
       "    <tr>\n",
       "      <th>...</th>\n",
       "      <td>...</td>\n",
       "      <td>...</td>\n",
       "    </tr>\n",
       "    <tr>\n",
       "      <th>170</th>\n",
       "      <td>58.953940</td>\n",
       "      <td>58.365093</td>\n",
       "    </tr>\n",
       "    <tr>\n",
       "      <th>171</th>\n",
       "      <td>67.321528</td>\n",
       "      <td>66.822550</td>\n",
       "    </tr>\n",
       "    <tr>\n",
       "      <th>172</th>\n",
       "      <td>65.229499</td>\n",
       "      <td>67.120163</td>\n",
       "    </tr>\n",
       "    <tr>\n",
       "      <th>173</th>\n",
       "      <td>68.128210</td>\n",
       "      <td>69.363773</td>\n",
       "    </tr>\n",
       "    <tr>\n",
       "      <th>174</th>\n",
       "      <td>66.432178</td>\n",
       "      <td>68.167565</td>\n",
       "    </tr>\n",
       "    <tr>\n",
       "      <th>175</th>\n",
       "      <td>66.118848</td>\n",
       "      <td>65.775148</td>\n",
       "    </tr>\n",
       "    <tr>\n",
       "      <th>176</th>\n",
       "      <td>79.331920</td>\n",
       "      <td>78.017188</td>\n",
       "    </tr>\n",
       "    <tr>\n",
       "      <th>177</th>\n",
       "      <td>92.894925</td>\n",
       "      <td>93.640503</td>\n",
       "    </tr>\n",
       "    <tr>\n",
       "      <th>178</th>\n",
       "      <td>68.389835</td>\n",
       "      <td>67.478868</td>\n",
       "    </tr>\n",
       "    <tr>\n",
       "      <th>179</th>\n",
       "      <td>64.982822</td>\n",
       "      <td>67.045759</td>\n",
       "    </tr>\n",
       "    <tr>\n",
       "      <th>180</th>\n",
       "      <td>50.402264</td>\n",
       "      <td>51.880886</td>\n",
       "    </tr>\n",
       "    <tr>\n",
       "      <th>181</th>\n",
       "      <td>69.994030</td>\n",
       "      <td>68.541500</td>\n",
       "    </tr>\n",
       "    <tr>\n",
       "      <th>182</th>\n",
       "      <td>69.109396</td>\n",
       "      <td>68.152335</td>\n",
       "    </tr>\n",
       "    <tr>\n",
       "      <th>183</th>\n",
       "      <td>57.602589</td>\n",
       "      <td>56.881374</td>\n",
       "    </tr>\n",
       "    <tr>\n",
       "      <th>184</th>\n",
       "      <td>80.077200</td>\n",
       "      <td>81.909183</td>\n",
       "    </tr>\n",
       "    <tr>\n",
       "      <th>185</th>\n",
       "      <td>54.780765</td>\n",
       "      <td>56.730649</td>\n",
       "    </tr>\n",
       "    <tr>\n",
       "      <th>186</th>\n",
       "      <td>39.226734</td>\n",
       "      <td>41.652346</td>\n",
       "    </tr>\n",
       "    <tr>\n",
       "      <th>187</th>\n",
       "      <td>78.689897</td>\n",
       "      <td>77.432064</td>\n",
       "    </tr>\n",
       "    <tr>\n",
       "      <th>188</th>\n",
       "      <td>58.707264</td>\n",
       "      <td>58.290690</td>\n",
       "    </tr>\n",
       "    <tr>\n",
       "      <th>189</th>\n",
       "      <td>66.442412</td>\n",
       "      <td>67.942436</td>\n",
       "    </tr>\n",
       "    <tr>\n",
       "      <th>190</th>\n",
       "      <td>54.446968</td>\n",
       "      <td>54.788489</td>\n",
       "    </tr>\n",
       "    <tr>\n",
       "      <th>191</th>\n",
       "      <td>53.260040</td>\n",
       "      <td>55.025010</td>\n",
       "    </tr>\n",
       "    <tr>\n",
       "      <th>192</th>\n",
       "      <td>39.447691</td>\n",
       "      <td>38.508222</td>\n",
       "    </tr>\n",
       "    <tr>\n",
       "      <th>193</th>\n",
       "      <td>75.040274</td>\n",
       "      <td>77.194915</td>\n",
       "    </tr>\n",
       "    <tr>\n",
       "      <th>194</th>\n",
       "      <td>74.094504</td>\n",
       "      <td>75.996787</td>\n",
       "    </tr>\n",
       "    <tr>\n",
       "      <th>195</th>\n",
       "      <td>70.851614</td>\n",
       "      <td>72.116814</td>\n",
       "    </tr>\n",
       "    <tr>\n",
       "      <th>196</th>\n",
       "      <td>72.763621</td>\n",
       "      <td>74.062811</td>\n",
       "    </tr>\n",
       "    <tr>\n",
       "      <th>197</th>\n",
       "      <td>64.237542</td>\n",
       "      <td>63.153765</td>\n",
       "    </tr>\n",
       "    <tr>\n",
       "      <th>198</th>\n",
       "      <td>79.656134</td>\n",
       "      <td>78.179935</td>\n",
       "    </tr>\n",
       "    <tr>\n",
       "      <th>199</th>\n",
       "      <td>73.673438</td>\n",
       "      <td>72.267539</td>\n",
       "    </tr>\n",
       "  </tbody>\n",
       "</table>\n",
       "<p>200 rows × 2 columns</p>\n",
       "</div>"
      ],
      "text/plain": [
       "     With test preparation course  Without test preparation course\n",
       "0                       65.949059                        67.793630\n",
       "1                       63.564168                        65.248569\n",
       "2                       71.895803                        70.712626\n",
       "3                       84.219259                        86.459414\n",
       "4                       85.098642                        83.179794\n",
       "5                       65.933574                        64.349973\n",
       "6                       64.756614                        66.521099\n",
       "7                       67.187156                        66.431466\n",
       "8                       68.410303                        67.028611\n",
       "9                       50.551585                        50.312661\n",
       "10                      93.131368                        93.940034\n",
       "11                      96.945148                        98.057158\n",
       "12                      59.514596                        58.827372\n",
       "13                      73.416528                        72.418265\n",
       "14                      54.210526                        54.488957\n",
       "15                      26.655685                        29.995430\n",
       "16                      48.973109                        52.468557\n",
       "17                      87.621556                        88.626703\n",
       "18                      66.683570                        66.507788\n",
       "19                      61.605975                        60.534301\n",
       "20                      59.673501                        59.038560\n",
       "21                      64.520171                        66.221567\n",
       "22                      82.246117                        83.704455\n",
       "23                      71.987640                        70.846202\n",
       "24                      69.084213                        70.336772\n",
       "25                      62.818888                        61.356574\n",
       "26                      53.028314                        52.991298\n",
       "27                      56.466563                        58.151986\n",
       "28                      39.663666                        39.258011\n",
       "29                      55.186996                        55.011699\n",
       "..                            ...                              ...\n",
       "170                     58.953940                        58.365093\n",
       "171                     67.321528                        66.822550\n",
       "172                     65.229499                        67.120163\n",
       "173                     68.128210                        69.363773\n",
       "174                     66.432178                        68.167565\n",
       "175                     66.118848                        65.775148\n",
       "176                     79.331920                        78.017188\n",
       "177                     92.894925                        93.640503\n",
       "178                     68.389835                        67.478868\n",
       "179                     64.982822                        67.045759\n",
       "180                     50.402264                        51.880886\n",
       "181                     69.994030                        68.541500\n",
       "182                     69.109396                        68.152335\n",
       "183                     57.602589                        56.881374\n",
       "184                     80.077200                        81.909183\n",
       "185                     54.780765                        56.730649\n",
       "186                     39.226734                        41.652346\n",
       "187                     78.689897                        77.432064\n",
       "188                     58.707264                        58.290690\n",
       "189                     66.442412                        67.942436\n",
       "190                     54.446968                        54.788489\n",
       "191                     53.260040                        55.025010\n",
       "192                     39.447691                        38.508222\n",
       "193                     75.040274                        77.194915\n",
       "194                     74.094504                        75.996787\n",
       "195                     70.851614                        72.116814\n",
       "196                     72.763621                        74.062811\n",
       "197                     64.237542                        63.153765\n",
       "198                     79.656134                        78.179935\n",
       "199                     73.673438                        72.267539\n",
       "\n",
       "[200 rows x 2 columns]"
      ]
     },
     "execution_count": 43,
     "metadata": {},
     "output_type": "execute_result"
    }
   ],
   "source": [
    "compare_two_predictions = pd.DataFrame({'With test preparation course':prediction,'Without test preparation course':prediction1})\n",
    "compare_two_predictions"
   ]
  },
  {
   "cell_type": "markdown",
   "metadata": {},
   "source": [
    "## Prediction of Reading Score"
   ]
  },
  {
   "cell_type": "code",
   "execution_count": 45,
   "metadata": {},
   "outputs": [],
   "source": [
    "#Features\n",
    "X = df[['test preparation course_map','gender_map','writing score','reading score','grade_map','pass/fail_map']]\n",
    "#Target Values\n",
    "y= df['reading score']"
   ]
  },
  {
   "cell_type": "code",
   "execution_count": 52,
   "metadata": {},
   "outputs": [],
   "source": [
    "X_train,X_test,y_train,y_test=tt(X,y,test_size=0.33,random_state=234)"
   ]
  },
  {
   "cell_type": "code",
   "execution_count": 47,
   "metadata": {},
   "outputs": [
    {
     "data": {
      "text/plain": [
       "LinearRegression(copy_X=True, fit_intercept=True, n_jobs=None,\n",
       "         normalize=False)"
      ]
     },
     "execution_count": 47,
     "metadata": {},
     "output_type": "execute_result"
    }
   ],
   "source": [
    "model.fit(X_train,y_train)"
   ]
  },
  {
   "cell_type": "code",
   "execution_count": 48,
   "metadata": {},
   "outputs": [
    {
     "data": {
      "text/plain": [
       "1.0"
      ]
     },
     "execution_count": 48,
     "metadata": {},
     "output_type": "execute_result"
    }
   ],
   "source": [
    "model.score(X_test,y_test)"
   ]
  },
  {
   "cell_type": "code",
   "execution_count": 51,
   "metadata": {},
   "outputs": [
    {
     "data": {
      "text/plain": [
       "array([ 78.,  82.,  81.,  60.,  41.,  75.,  78.,  86.,  66.,  81.,  52.,\n",
       "        76.,  63.,  81.,  66.,  69.,  62.,  59.,  78., 100.,  72.,  71.,\n",
       "        66.,  28.,  76.,  87.,  77.,  46.,  65.,  55.,  77.,  67.,  45.,\n",
       "        93.,  47.,  43.,  74.,  58.,  60.,  83.,  81.,  79.,  52.,  78.,\n",
       "        77.,  61.,  63.,  89.,  79.,  62.,  68.,  55.,  55.,  78.,  66.,\n",
       "        72.,  73.,  68.,  95.,  70.,  44.,  74.,  83.,  56.,  39.,  51.,\n",
       "        64.,  64.,  56.,  51.,  87.,  62.,  83.,  54.,  72.,  54.,  49.,\n",
       "        66.,  70.,  52.,  24.,  66.,  90.,  73.,  81.,  66.,  86.,  80.,\n",
       "        81.,  48.,  34.,  51.,  64.,  63.,  81.,  75.,  80.,  49.,  79.,\n",
       "        71.,  49.,  64.,  79.,  62.,  76.,  93.,  85.,  71.,  71.,  73.,\n",
       "        53.,  93.,  80.,  67.,  37.,  61.,  93.,  80.,  51.,  86.,  66.,\n",
       "        77.,  81.,  76.,  73.,  64.,  61.,  74.,  78.,  79.,  73.,  59.,\n",
       "        82.,  48.,  56.,  42.,  73.,  83.,  69.,  68.,  64.,  70.,  79.,\n",
       "        60.,  60.,  79.,  74.,  54.,  54.,  67.,  73.,  71.,  57.,  67.,\n",
       "        74.,  72.,  75.,  51.,  80.,  90.,  76.,  41.,  79.,  59.,  90.,\n",
       "        70.,  81.,  67.,  54.,  58.,  97.,  52.,  82.,  78.,  67.,  78.,\n",
       "        94.,  65.,  26.,  69.,  74.,  63.,  77.,  80.,  79.,  64.,  41.,\n",
       "        84.,  43.,  93.,  64.,  52.,  82.,  74.,  66.,  62.,  59.,  79.,\n",
       "        58.,  76.,  72.,  54.,  97.,  84.,  46.,  68.,  70.,  70.,  84.,\n",
       "        72.,  82.,  92.,  81.,  65.,  70.,  58.,  57.,  49.,  72.,  57.,\n",
       "        69.,  99.,  80.,  17.,  83.,  54.,  54.,  80.,  60.,  59.,  67.,\n",
       "        54.,  39.,  73.,  47.,  84.,  57.,  68.,  96.,  87.,  58.,  91.,\n",
       "        59.,  62.,  92.,  90.,  95.,  88.,  63.,  61.,  49.,  66.,  68.,\n",
       "        43.,  54.,  63.,  58.,  90.,  60.,  65.,  63.,  65.,  67.,  66.,\n",
       "        55.,  64.,  67.,  67.,  38.,  78.,  78.,  57.,  82.,  67.,  90.,\n",
       "        39., 100.,  62.,  68.,  83.,  48.,  77.,  37.,  57.,  83.,  82.,\n",
       "        86.,  59.,  88.,  85.,  50.,  68.,  60.,  49.,  46.,  34., 100.,\n",
       "        50.,  95.,  48.,  81.,  61.,  68.,  51.,  71.,  84.,  60.,  59.,\n",
       "        78.,  74.,  89.,  57.,  64.,  79.,  60.,  65.,  84.,  72.,  75.,\n",
       "        57.,  60.,  76.,  69.,  69.,  89.,  79.,  84.,  80.,  73.,  76.])"
      ]
     },
     "execution_count": 51,
     "metadata": {},
     "output_type": "execute_result"
    }
   ],
   "source": [
    "read_preparation=model.predict(X_test)\n",
    "read_preparation"
   ]
  },
  {
   "cell_type": "code",
   "execution_count": 54,
   "metadata": {},
   "outputs": [
    {
     "data": {
      "image/png": "[encoded data removed]",
      "text/plain": [
       "<Figure size 432x288 with 1 Axes>"
      ]
     },
     "metadata": {
      "needs_background": "light"
     },
     "output_type": "display_data"
    }
   ],
   "source": [
    "plt.scatter(y_test, read_preparation)\n",
    "plt.xlabel('True Values')\n",
    "plt.ylabel('Predictions')\n",
    "plt.show()"
   ]
  },
  {
   "cell_type": "markdown",
   "metadata": {},
   "source": [
    "## Inserting X and y in RandomForestClassifier"
   ]
  },
  {
   "cell_type": "code",
   "execution_count": 57,
   "metadata": {},
   "outputs": [
    {
     "data": {
      "text/plain": [
       "RandomForestClassifier(bootstrap=True, class_weight=None, criterion='gini',\n",
       "            max_depth=2, max_features='auto', max_leaf_nodes=None,\n",
       "            min_impurity_decrease=0.0, min_impurity_split=None,\n",
       "            min_samples_leaf=1, min_samples_split=2,\n",
       "            min_weight_fraction_leaf=0.0, n_estimators=100, n_jobs=None,\n",
       "            oob_score=False, random_state=0, verbose=0, warm_start=False)"
      ]
     },
     "execution_count": 57,
     "metadata": {},
     "output_type": "execute_result"
    }
   ],
   "source": [
    "cl = RandomForestClassifier(n_estimators=100, max_depth=2,random_state=0)\n",
    "cl.fit(X,y)"
   ]
  },
  {
   "cell_type": "markdown",
   "metadata": {},
   "source": [
    "## Checking the important features"
   ]
  },
  {
   "cell_type": "code",
   "execution_count": 59,
   "metadata": {},
   "outputs": [
    {
     "data": {
      "text/html": [
       "<div>\n",
       "<style scoped>\n",
       "    .dataframe tbody tr th:only-of-type {\n",
       "        vertical-align: middle;\n",
       "    }\n",
       "\n",
       "    .dataframe tbody tr th {\n",
       "        vertical-align: top;\n",
       "    }\n",
       "\n",
       "    .dataframe thead th {\n",
       "        text-align: right;\n",
       "    }\n",
       "</style>\n",
       "<table border=\"1\" class=\"dataframe\">\n",
       "  <thead>\n",
       "    <tr style=\"text-align: right;\">\n",
       "      <th></th>\n",
       "      <th>feature</th>\n",
       "      <th>importance</th>\n",
       "    </tr>\n",
       "  </thead>\n",
       "  <tbody>\n",
       "    <tr>\n",
       "      <th>0</th>\n",
       "      <td>test preparation course_map</td>\n",
       "      <td>0.017262</td>\n",
       "    </tr>\n",
       "    <tr>\n",
       "      <th>1</th>\n",
       "      <td>gender_map</td>\n",
       "      <td>0.025931</td>\n",
       "    </tr>\n",
       "    <tr>\n",
       "      <th>2</th>\n",
       "      <td>writing score</td>\n",
       "      <td>0.272477</td>\n",
       "    </tr>\n",
       "    <tr>\n",
       "      <th>3</th>\n",
       "      <td>reading score</td>\n",
       "      <td>0.442087</td>\n",
       "    </tr>\n",
       "    <tr>\n",
       "      <th>4</th>\n",
       "      <td>grade_map</td>\n",
       "      <td>0.207662</td>\n",
       "    </tr>\n",
       "    <tr>\n",
       "      <th>5</th>\n",
       "      <td>pass/fail_map</td>\n",
       "      <td>0.034581</td>\n",
       "    </tr>\n",
       "  </tbody>\n",
       "</table>\n",
       "</div>"
      ],
      "text/plain": [
       "                       feature  importance\n",
       "0  test preparation course_map    0.017262\n",
       "1                   gender_map    0.025931\n",
       "2                writing score    0.272477\n",
       "3                reading score    0.442087\n",
       "4                    grade_map    0.207662\n",
       "5                pass/fail_map    0.034581"
      ]
     },
     "execution_count": 59,
     "metadata": {},
     "output_type": "execute_result"
    }
   ],
   "source": [
    "feature =['test preparation course_map','gender_map','writing score','reading score','grade_map','pass/fail_map']\n",
    "feature_imp=pd.DataFrame({'feature':feature,'importance':cl.feature_importances_})\n",
    "feature_imp"
   ]
  },
  {
   "cell_type": "code",
   "execution_count": 60,
   "metadata": {},
   "outputs": [
    {
     "data": {
      "text/plain": [
       "<matplotlib.axes._subplots.AxesSubplot at 0x469f110>"
      ]
     },
     "execution_count": 60,
     "metadata": {},
     "output_type": "execute_result"
    },
    {
     "data": {
      "image/png": "[encoded data removed]",
      "text/plain": [
       "<Figure size 432x288 with 1 Axes>"
      ]
     },
     "metadata": {
      "needs_background": "light"
     },
     "output_type": "display_data"
    }
   ],
   "source": [
    "feature_imp.plot.bar()"
   ]
  },
  {
   "cell_type": "markdown",
   "metadata": {},
   "source": [
    "#### We can see that 'test preparation course_map' is the least important feature"
   ]
  },
  {
   "cell_type": "markdown",
   "metadata": {},
   "source": [
    "## Removing the least important feature i.e. test preparation course_map and inserting new features in RandomForestClassifier"
   ]
  },
  {
   "cell_type": "code",
   "execution_count": 65,
   "metadata": {},
   "outputs": [
    {
     "data": {
      "text/plain": [
       "RandomForestClassifier(bootstrap=True, class_weight=None, criterion='gini',\n",
       "            max_depth=2, max_features='auto', max_leaf_nodes=None,\n",
       "            min_impurity_decrease=0.0, min_impurity_split=None,\n",
       "            min_samples_leaf=1, min_samples_split=2,\n",
       "            min_weight_fraction_leaf=0.0, n_estimators=100, n_jobs=None,\n",
       "            oob_score=False, random_state=0, verbose=0, warm_start=False)"
      ]
     },
     "execution_count": 65,
     "metadata": {},
     "output_type": "execute_result"
    }
   ],
   "source": [
    "X1 = df[['gender_map','writing score','reading score','grade_map','pass/fail_map']]\n",
    "cl.fit(X1,y)"
   ]
  },
  {
   "cell_type": "markdown",
   "metadata": {},
   "source": [
    "## Checking important features"
   ]
  },
  {
   "cell_type": "code",
   "execution_count": 68,
   "metadata": {},
   "outputs": [
    {
     "data": {
      "text/html": [
       "<div>\n",
       "<style scoped>\n",
       "    .dataframe tbody tr th:only-of-type {\n",
       "        vertical-align: middle;\n",
       "    }\n",
       "\n",
       "    .dataframe tbody tr th {\n",
       "        vertical-align: top;\n",
       "    }\n",
       "\n",
       "    .dataframe thead th {\n",
       "        text-align: right;\n",
       "    }\n",
       "</style>\n",
       "<table border=\"1\" class=\"dataframe\">\n",
       "  <thead>\n",
       "    <tr style=\"text-align: right;\">\n",
       "      <th></th>\n",
       "      <th>feature</th>\n",
       "      <th>importance</th>\n",
       "    </tr>\n",
       "  </thead>\n",
       "  <tbody>\n",
       "    <tr>\n",
       "      <th>0</th>\n",
       "      <td>gender_map</td>\n",
       "      <td>0.015692</td>\n",
       "    </tr>\n",
       "    <tr>\n",
       "      <th>1</th>\n",
       "      <td>writing score</td>\n",
       "      <td>0.238595</td>\n",
       "    </tr>\n",
       "    <tr>\n",
       "      <th>2</th>\n",
       "      <td>reading score</td>\n",
       "      <td>0.544760</td>\n",
       "    </tr>\n",
       "    <tr>\n",
       "      <th>3</th>\n",
       "      <td>grade_map</td>\n",
       "      <td>0.173340</td>\n",
       "    </tr>\n",
       "    <tr>\n",
       "      <th>4</th>\n",
       "      <td>pass/fail_map</td>\n",
       "      <td>0.027614</td>\n",
       "    </tr>\n",
       "  </tbody>\n",
       "</table>\n",
       "</div>"
      ],
      "text/plain": [
       "         feature  importance\n",
       "0     gender_map    0.015692\n",
       "1  writing score    0.238595\n",
       "2  reading score    0.544760\n",
       "3      grade_map    0.173340\n",
       "4  pass/fail_map    0.027614"
      ]
     },
     "execution_count": 68,
     "metadata": {},
     "output_type": "execute_result"
    }
   ],
   "source": [
    "feature2 = ['gender_map','writing score','reading score','grade_map','pass/fail_map']\n",
    "feature2_imp = pd.DataFrame({'feature':feature2,'importance':cl.feature_importances_})\n",
    "feature2_imp"
   ]
  },
  {
   "cell_type": "code",
   "execution_count": 69,
   "metadata": {},
   "outputs": [
    {
     "data": {
      "text/plain": [
       "<matplotlib.axes._subplots.AxesSubplot at 0x13506a90>"
      ]
     },
     "execution_count": 69,
     "metadata": {},
     "output_type": "execute_result"
    },
    {
     "data": {
      "image/png": "[encoded data removed]",
      "text/plain": [
       "<Figure size 432x288 with 1 Axes>"
      ]
     },
     "metadata": {
      "needs_background": "light"
     },
     "output_type": "display_data"
    }
   ],
   "source": [
    "feature2_imp.plot.bar()"
   ]
  },
  {
   "cell_type": "markdown",
   "metadata": {},
   "source": [
    "## Predicting reading score without test prepration course"
   ]
  },
  {
   "cell_type": "code",
   "execution_count": 71,
   "metadata": {},
   "outputs": [],
   "source": [
    "X1_train,X1_test,y1_train,y1_test=tt(X1,y,test_size=0.33,random_state=123)\n"
   ]
  },
  {
   "cell_type": "markdown",
   "metadata": {},
   "source": [
    "## Inserting X1_train and y1_train in linear model"
   ]
  },
  {
   "cell_type": "code",
   "execution_count": 73,
   "metadata": {},
   "outputs": [
    {
     "data": {
      "text/plain": [
       "LinearRegression(copy_X=True, fit_intercept=True, n_jobs=None,\n",
       "         normalize=False)"
      ]
     },
     "execution_count": 73,
     "metadata": {},
     "output_type": "execute_result"
    }
   ],
   "source": [
    "model.fit(X1_train,y1_train)"
   ]
  },
  {
   "cell_type": "code",
   "execution_count": 74,
   "metadata": {},
   "outputs": [
    {
     "data": {
      "text/plain": [
       "1.0"
      ]
     },
     "execution_count": 74,
     "metadata": {},
     "output_type": "execute_result"
    }
   ],
   "source": [
    "model.score(X1_test,y1_test)"
   ]
  },
  {
   "cell_type": "code",
   "execution_count": 75,
   "metadata": {},
   "outputs": [
    {
     "data": {
      "text/plain": [
       "array([ 37.,  69.,  55.,  76.,  66.,  74.,  75.,  54.,  70.,  71.,  55.,\n",
       "        85.,  61.,  83.,  74.,  23.,  58.,  79.,  85.,  73.,  74.,  87.,\n",
       "        95.,  29., 100.,  87.,  79.,  80.,  73.,  43.,  90.,  65., 100.,\n",
       "        72.,  62.,  73.,  58.,  39.,  61.,  57.,  73.,  70.,  88.,  76.,\n",
       "        77.,  76.,  38.,  78.,  71.,  78.,  88.,  77.,  79.,  61.,  78.,\n",
       "        69.,  53.,  76.,  54.,  67.,  85.,  60.,  86.,  60.,  50.,  84.,\n",
       "        81.,  77.,  70.,  88.,  80.,  52.,  61.,  68.,  67.,  81.,  72.,\n",
       "        87.,  52.,  58.,  66.,  75.,  75.,  81.,  81., 100.,  67.,  51.,\n",
       "        83.,  83.,  52.,  59.,  71.,  73.,  79.,  81.,  80.,  63.,  81.,\n",
       "        70.,  64.,  75.,  86.,  74.,  74.,  43.,  76.,  63.,  68.,  74.,\n",
       "        86.,  45.,  82.,  66.,  67.,  74.,  96.,  53.,  44.,  82.,  92.,\n",
       "        77.,  81.,  51., 100.,  91.,  66.,  44.,  84.,  78.,  52.,  58.,\n",
       "        70.,  62.,  85.,  82.,  70.,  75.,  84.,  50.,  46.,  68.,  79.,\n",
       "        55.,  92.,  59.,  82.,  41.,  68.,  70.,  65.,  52.,  72.,  58.,\n",
       "        43.,  60.,  71.,  84.,  82.,  74.,  41.,  54.,  76.,  79.,  65.,\n",
       "        74.,  73.,  81.,  53.,  68.,  45.,  85.,  64.,  66.,  55.,  43.,\n",
       "        84.,  67.,  90.,  72.,  89.,  89.,  77.,  72.,  97.,  82.,  57.,\n",
       "        67.,  68.,  47.,  64.,  74.,  60.,  72.,  73.,  68.,  77.,  66.,\n",
       "        79., 100.,  49.,  99.,  71.,  61.,  90.,  65.,  34.,  73.,  77.,\n",
       "        72.,  41.,  64.,  84.,  64.,  74.,  74.,  58.,  72.,  78.,  53.,\n",
       "        70.,  57.,  63.,  87.,  52.,  60.,  72.,  55.,  39.,  56.,  72.,\n",
       "        62.,  45.,  31.,  49.,  80.,  78.,  82.,  66.,  17.,  70.,  79.,\n",
       "        63.,  67.,  60.,  70.,  52.,  70.,  86.,  50.,  62.,  91.,  82.,\n",
       "        70.,  77.,  81.,  63.,  73.,  78.,  73.,  70.,  63.,  80.,  82.,\n",
       "        52.,  76.,  72.,  94.,  65.,  34.,  63.,  58.,  55.,  60.,  74.,\n",
       "        67.,  61.,  77.,  99.,  76.,  57.,  57.,  63.,  66.,  58.,  77.,\n",
       "        60.,  54.,  79., 100.,  61.,  72.,  82.,  48.,  68.,  72.,  77.,\n",
       "       100.,  73.,  70.,  69.,  51.,  64.,  77.,  78.,  55.,  64.,  87.,\n",
       "        51.,  61.,  43.,  93.,  61.,  86.,  67.,  74.,  74.,  60.,  52.,\n",
       "        74.,  64.,  79.,  47.,  58.,  62.,  84.,  41.,  73.,  69.,  78.])"
      ]
     },
     "execution_count": 75,
     "metadata": {},
     "output_type": "execute_result"
    }
   ],
   "source": [
    "prediction1=model.predict(X1_test)\n",
    "prediction1"
   ]
  },
  {
   "cell_type": "markdown",
   "metadata": {},
   "source": [
    "## Calculating Predictions with and without test preparation course "
   ]
  },
  {
   "cell_type": "code",
   "execution_count": 80,
   "metadata": {},
   "outputs": [
    {
     "data": {
      "text/html": [
       "<div>\n",
       "<style scoped>\n",
       "    .dataframe tbody tr th:only-of-type {\n",
       "        vertical-align: middle;\n",
       "    }\n",
       "\n",
       "    .dataframe tbody tr th {\n",
       "        vertical-align: top;\n",
       "    }\n",
       "\n",
       "    .dataframe thead th {\n",
       "        text-align: right;\n",
       "    }\n",
       "</style>\n",
       "<table border=\"1\" class=\"dataframe\">\n",
       "  <thead>\n",
       "    <tr style=\"text-align: right;\">\n",
       "      <th></th>\n",
       "      <th>With test preparation course</th>\n",
       "      <th>Without test preparation course</th>\n",
       "    </tr>\n",
       "  </thead>\n",
       "  <tbody>\n",
       "    <tr>\n",
       "      <th>0</th>\n",
       "      <td>78.0</td>\n",
       "      <td>37.0</td>\n",
       "    </tr>\n",
       "    <tr>\n",
       "      <th>1</th>\n",
       "      <td>82.0</td>\n",
       "      <td>69.0</td>\n",
       "    </tr>\n",
       "    <tr>\n",
       "      <th>2</th>\n",
       "      <td>81.0</td>\n",
       "      <td>55.0</td>\n",
       "    </tr>\n",
       "    <tr>\n",
       "      <th>3</th>\n",
       "      <td>60.0</td>\n",
       "      <td>76.0</td>\n",
       "    </tr>\n",
       "    <tr>\n",
       "      <th>4</th>\n",
       "      <td>41.0</td>\n",
       "      <td>66.0</td>\n",
       "    </tr>\n",
       "    <tr>\n",
       "      <th>5</th>\n",
       "      <td>75.0</td>\n",
       "      <td>74.0</td>\n",
       "    </tr>\n",
       "    <tr>\n",
       "      <th>6</th>\n",
       "      <td>78.0</td>\n",
       "      <td>75.0</td>\n",
       "    </tr>\n",
       "    <tr>\n",
       "      <th>7</th>\n",
       "      <td>86.0</td>\n",
       "      <td>54.0</td>\n",
       "    </tr>\n",
       "    <tr>\n",
       "      <th>8</th>\n",
       "      <td>66.0</td>\n",
       "      <td>70.0</td>\n",
       "    </tr>\n",
       "    <tr>\n",
       "      <th>9</th>\n",
       "      <td>81.0</td>\n",
       "      <td>71.0</td>\n",
       "    </tr>\n",
       "    <tr>\n",
       "      <th>10</th>\n",
       "      <td>52.0</td>\n",
       "      <td>55.0</td>\n",
       "    </tr>\n",
       "    <tr>\n",
       "      <th>11</th>\n",
       "      <td>76.0</td>\n",
       "      <td>85.0</td>\n",
       "    </tr>\n",
       "    <tr>\n",
       "      <th>12</th>\n",
       "      <td>63.0</td>\n",
       "      <td>61.0</td>\n",
       "    </tr>\n",
       "    <tr>\n",
       "      <th>13</th>\n",
       "      <td>81.0</td>\n",
       "      <td>83.0</td>\n",
       "    </tr>\n",
       "    <tr>\n",
       "      <th>14</th>\n",
       "      <td>66.0</td>\n",
       "      <td>74.0</td>\n",
       "    </tr>\n",
       "    <tr>\n",
       "      <th>15</th>\n",
       "      <td>69.0</td>\n",
       "      <td>23.0</td>\n",
       "    </tr>\n",
       "    <tr>\n",
       "      <th>16</th>\n",
       "      <td>62.0</td>\n",
       "      <td>58.0</td>\n",
       "    </tr>\n",
       "    <tr>\n",
       "      <th>17</th>\n",
       "      <td>59.0</td>\n",
       "      <td>79.0</td>\n",
       "    </tr>\n",
       "    <tr>\n",
       "      <th>18</th>\n",
       "      <td>78.0</td>\n",
       "      <td>85.0</td>\n",
       "    </tr>\n",
       "    <tr>\n",
       "      <th>19</th>\n",
       "      <td>100.0</td>\n",
       "      <td>73.0</td>\n",
       "    </tr>\n",
       "    <tr>\n",
       "      <th>20</th>\n",
       "      <td>72.0</td>\n",
       "      <td>74.0</td>\n",
       "    </tr>\n",
       "    <tr>\n",
       "      <th>21</th>\n",
       "      <td>71.0</td>\n",
       "      <td>87.0</td>\n",
       "    </tr>\n",
       "    <tr>\n",
       "      <th>22</th>\n",
       "      <td>66.0</td>\n",
       "      <td>95.0</td>\n",
       "    </tr>\n",
       "    <tr>\n",
       "      <th>23</th>\n",
       "      <td>28.0</td>\n",
       "      <td>29.0</td>\n",
       "    </tr>\n",
       "    <tr>\n",
       "      <th>24</th>\n",
       "      <td>76.0</td>\n",
       "      <td>100.0</td>\n",
       "    </tr>\n",
       "    <tr>\n",
       "      <th>25</th>\n",
       "      <td>87.0</td>\n",
       "      <td>87.0</td>\n",
       "    </tr>\n",
       "    <tr>\n",
       "      <th>26</th>\n",
       "      <td>77.0</td>\n",
       "      <td>79.0</td>\n",
       "    </tr>\n",
       "    <tr>\n",
       "      <th>27</th>\n",
       "      <td>46.0</td>\n",
       "      <td>80.0</td>\n",
       "    </tr>\n",
       "    <tr>\n",
       "      <th>28</th>\n",
       "      <td>65.0</td>\n",
       "      <td>73.0</td>\n",
       "    </tr>\n",
       "    <tr>\n",
       "      <th>29</th>\n",
       "      <td>55.0</td>\n",
       "      <td>43.0</td>\n",
       "    </tr>\n",
       "    <tr>\n",
       "      <th>...</th>\n",
       "      <td>...</td>\n",
       "      <td>...</td>\n",
       "    </tr>\n",
       "    <tr>\n",
       "      <th>300</th>\n",
       "      <td>81.0</td>\n",
       "      <td>69.0</td>\n",
       "    </tr>\n",
       "    <tr>\n",
       "      <th>301</th>\n",
       "      <td>61.0</td>\n",
       "      <td>51.0</td>\n",
       "    </tr>\n",
       "    <tr>\n",
       "      <th>302</th>\n",
       "      <td>68.0</td>\n",
       "      <td>64.0</td>\n",
       "    </tr>\n",
       "    <tr>\n",
       "      <th>303</th>\n",
       "      <td>51.0</td>\n",
       "      <td>77.0</td>\n",
       "    </tr>\n",
       "    <tr>\n",
       "      <th>304</th>\n",
       "      <td>71.0</td>\n",
       "      <td>78.0</td>\n",
       "    </tr>\n",
       "    <tr>\n",
       "      <th>305</th>\n",
       "      <td>84.0</td>\n",
       "      <td>55.0</td>\n",
       "    </tr>\n",
       "    <tr>\n",
       "      <th>306</th>\n",
       "      <td>60.0</td>\n",
       "      <td>64.0</td>\n",
       "    </tr>\n",
       "    <tr>\n",
       "      <th>307</th>\n",
       "      <td>59.0</td>\n",
       "      <td>87.0</td>\n",
       "    </tr>\n",
       "    <tr>\n",
       "      <th>308</th>\n",
       "      <td>78.0</td>\n",
       "      <td>51.0</td>\n",
       "    </tr>\n",
       "    <tr>\n",
       "      <th>309</th>\n",
       "      <td>74.0</td>\n",
       "      <td>61.0</td>\n",
       "    </tr>\n",
       "    <tr>\n",
       "      <th>310</th>\n",
       "      <td>89.0</td>\n",
       "      <td>43.0</td>\n",
       "    </tr>\n",
       "    <tr>\n",
       "      <th>311</th>\n",
       "      <td>57.0</td>\n",
       "      <td>93.0</td>\n",
       "    </tr>\n",
       "    <tr>\n",
       "      <th>312</th>\n",
       "      <td>64.0</td>\n",
       "      <td>61.0</td>\n",
       "    </tr>\n",
       "    <tr>\n",
       "      <th>313</th>\n",
       "      <td>79.0</td>\n",
       "      <td>86.0</td>\n",
       "    </tr>\n",
       "    <tr>\n",
       "      <th>314</th>\n",
       "      <td>60.0</td>\n",
       "      <td>67.0</td>\n",
       "    </tr>\n",
       "    <tr>\n",
       "      <th>315</th>\n",
       "      <td>65.0</td>\n",
       "      <td>74.0</td>\n",
       "    </tr>\n",
       "    <tr>\n",
       "      <th>316</th>\n",
       "      <td>84.0</td>\n",
       "      <td>74.0</td>\n",
       "    </tr>\n",
       "    <tr>\n",
       "      <th>317</th>\n",
       "      <td>72.0</td>\n",
       "      <td>60.0</td>\n",
       "    </tr>\n",
       "    <tr>\n",
       "      <th>318</th>\n",
       "      <td>75.0</td>\n",
       "      <td>52.0</td>\n",
       "    </tr>\n",
       "    <tr>\n",
       "      <th>319</th>\n",
       "      <td>57.0</td>\n",
       "      <td>74.0</td>\n",
       "    </tr>\n",
       "    <tr>\n",
       "      <th>320</th>\n",
       "      <td>60.0</td>\n",
       "      <td>64.0</td>\n",
       "    </tr>\n",
       "    <tr>\n",
       "      <th>321</th>\n",
       "      <td>76.0</td>\n",
       "      <td>79.0</td>\n",
       "    </tr>\n",
       "    <tr>\n",
       "      <th>322</th>\n",
       "      <td>69.0</td>\n",
       "      <td>47.0</td>\n",
       "    </tr>\n",
       "    <tr>\n",
       "      <th>323</th>\n",
       "      <td>69.0</td>\n",
       "      <td>58.0</td>\n",
       "    </tr>\n",
       "    <tr>\n",
       "      <th>324</th>\n",
       "      <td>89.0</td>\n",
       "      <td>62.0</td>\n",
       "    </tr>\n",
       "    <tr>\n",
       "      <th>325</th>\n",
       "      <td>79.0</td>\n",
       "      <td>84.0</td>\n",
       "    </tr>\n",
       "    <tr>\n",
       "      <th>326</th>\n",
       "      <td>84.0</td>\n",
       "      <td>41.0</td>\n",
       "    </tr>\n",
       "    <tr>\n",
       "      <th>327</th>\n",
       "      <td>80.0</td>\n",
       "      <td>73.0</td>\n",
       "    </tr>\n",
       "    <tr>\n",
       "      <th>328</th>\n",
       "      <td>73.0</td>\n",
       "      <td>69.0</td>\n",
       "    </tr>\n",
       "    <tr>\n",
       "      <th>329</th>\n",
       "      <td>76.0</td>\n",
       "      <td>78.0</td>\n",
       "    </tr>\n",
       "  </tbody>\n",
       "</table>\n",
       "<p>330 rows × 2 columns</p>\n",
       "</div>"
      ],
      "text/plain": [
       "     With test preparation course  Without test preparation course\n",
       "0                            78.0                             37.0\n",
       "1                            82.0                             69.0\n",
       "2                            81.0                             55.0\n",
       "3                            60.0                             76.0\n",
       "4                            41.0                             66.0\n",
       "5                            75.0                             74.0\n",
       "6                            78.0                             75.0\n",
       "7                            86.0                             54.0\n",
       "8                            66.0                             70.0\n",
       "9                            81.0                             71.0\n",
       "10                           52.0                             55.0\n",
       "11                           76.0                             85.0\n",
       "12                           63.0                             61.0\n",
       "13                           81.0                             83.0\n",
       "14                           66.0                             74.0\n",
       "15                           69.0                             23.0\n",
       "16                           62.0                             58.0\n",
       "17                           59.0                             79.0\n",
       "18                           78.0                             85.0\n",
       "19                          100.0                             73.0\n",
       "20                           72.0                             74.0\n",
       "21                           71.0                             87.0\n",
       "22                           66.0                             95.0\n",
       "23                           28.0                             29.0\n",
       "24                           76.0                            100.0\n",
       "25                           87.0                             87.0\n",
       "26                           77.0                             79.0\n",
       "27                           46.0                             80.0\n",
       "28                           65.0                             73.0\n",
       "29                           55.0                             43.0\n",
       "..                            ...                              ...\n",
       "300                          81.0                             69.0\n",
       "301                          61.0                             51.0\n",
       "302                          68.0                             64.0\n",
       "303                          51.0                             77.0\n",
       "304                          71.0                             78.0\n",
       "305                          84.0                             55.0\n",
       "306                          60.0                             64.0\n",
       "307                          59.0                             87.0\n",
       "308                          78.0                             51.0\n",
       "309                          74.0                             61.0\n",
       "310                          89.0                             43.0\n",
       "311                          57.0                             93.0\n",
       "312                          64.0                             61.0\n",
       "313                          79.0                             86.0\n",
       "314                          60.0                             67.0\n",
       "315                          65.0                             74.0\n",
       "316                          84.0                             74.0\n",
       "317                          72.0                             60.0\n",
       "318                          75.0                             52.0\n",
       "319                          57.0                             74.0\n",
       "320                          60.0                             64.0\n",
       "321                          76.0                             79.0\n",
       "322                          69.0                             47.0\n",
       "323                          69.0                             58.0\n",
       "324                          89.0                             62.0\n",
       "325                          79.0                             84.0\n",
       "326                          84.0                             41.0\n",
       "327                          80.0                             73.0\n",
       "328                          73.0                             69.0\n",
       "329                          76.0                             78.0\n",
       "\n",
       "[330 rows x 2 columns]"
      ]
     },
     "execution_count": 80,
     "metadata": {},
     "output_type": "execute_result"
    }
   ],
   "source": [
    "compare_two_predictions = pd.DataFrame({'With test preparation course':read_preparation,'Without test preparation course':prediction1})\n",
    "compare_two_predictions"
   ]
  },
  {
   "cell_type": "markdown",
   "metadata": {},
   "source": [
    "## Prediciton of Writing Score"
   ]
  },
  {
   "cell_type": "code",
   "execution_count": 82,
   "metadata": {},
   "outputs": [],
   "source": [
    "#Features:\n",
    "X = df[['test preparation course_map','gender_map','writing score','reading score','grade_map','pass/fail_map']]\n",
    "#Target Values\n",
    "y = df['writing score']"
   ]
  },
  {
   "cell_type": "code",
   "execution_count": 83,
   "metadata": {},
   "outputs": [],
   "source": [
    "X_train,X_test,y_train,y_test=tt(X,y,test_size=0.2,random_state=234)"
   ]
  },
  {
   "cell_type": "markdown",
   "metadata": {},
   "source": [
    "## Fitting X_train and y_train in Linear Model"
   ]
  },
  {
   "cell_type": "code",
   "execution_count": 85,
   "metadata": {},
   "outputs": [
    {
     "data": {
      "text/plain": [
       "LinearRegression(copy_X=True, fit_intercept=True, n_jobs=None,\n",
       "         normalize=False)"
      ]
     },
     "execution_count": 85,
     "metadata": {},
     "output_type": "execute_result"
    }
   ],
   "source": [
    "model.fit(X_train,y_train)"
   ]
  },
  {
   "cell_type": "code",
   "execution_count": 86,
   "metadata": {},
   "outputs": [
    {
     "data": {
      "text/plain": [
       "1.0"
      ]
     },
     "execution_count": 86,
     "metadata": {},
     "output_type": "execute_result"
    }
   ],
   "source": [
    "model.score(X_test,y_test)"
   ]
  },
  {
   "cell_type": "code",
   "execution_count": 87,
   "metadata": {},
   "outputs": [
    {
     "data": {
      "text/plain": [
       "array([ 51.,  85.,  77.,  68.,  63.,  70.,  81.,  80.,  54.,  91.,  76.,\n",
       "        43.,  86.,  77.,  95.,  46.,  80.,  32.,  74.,  63.,  85.,  77.,\n",
       "        64.,  65.,  72.,  72.,  67.,  68.,  38.,  70.,  84.,  80.,  73.,\n",
       "        54.,  66.,  90.,  75.,  82.,  62.,  57.,  88.,  90.,  62.,  61.,\n",
       "        60.,  75.,  79.,  75.,  62.,  64.,  73.,  78.,  32.,  60.,  61.,\n",
       "        82.,  72.,  56.,  54.,  51.,  47.,  59.,  54.,  69.,  64.,  80.,\n",
       "        78.,  37.,  75.,  62.,  87.,  82.,  62.,  66.,  46.,  64.,  83.,\n",
       "        76.,  70.,  57.,  82.,  48.,  77.,  82.,  86.,  80.,  19.,  61.,\n",
       "        51.,  60.,  76.,  60.,  70.,  74.,  68.,  64.,  74.,  62.,  41.,\n",
       "        58.,  91.,  67.,  77.,  52.,  81.,  66.,  60.,  61.,  78.,  68.,\n",
       "        68.,  68.,  34.,  77.,  65., 100.,  68.,  49.,  79.,  74.,  58.,\n",
       "        62.,  77.,  78.,  61.,  69.,  72.,  75.,  75.,  42.,  88.,  68.,\n",
       "        58.,  76.,  64.,  67.,  69.,  82.,  76.,  63.,  62.,  60.,  83.,\n",
       "        74.,  81.,  71.,  80.,  59.,  34.,  44.,  74.,  73.,  52.,  89.,\n",
       "        62.,  75.,  45.,  79.,  68.,  82.,  94.,  61.,  68.,  61.,  38.,\n",
       "        86.,  77.,  54.,  78.,  85.,  86.,  78.,  52.,  79.,  69., 100.,\n",
       "        58.,  81.,  54.,  41.,  53.,  70.,  74.,  54.,  50.,  84.,  94.,\n",
       "        58.,  79.,  47.,  72.,  30.,  69.,  99.,  60.,  67.,  67.,  72.,\n",
       "        50.,  99.])"
      ]
     },
     "execution_count": 87,
     "metadata": {},
     "output_type": "execute_result"
    }
   ],
   "source": [
    "write_predict = model.predict(X_test)\n",
    "write_predict"
   ]
  },
  {
   "cell_type": "code",
   "execution_count": 88,
   "metadata": {},
   "outputs": [
    {
     "data": {
      "image/png": "[encoded data removed]",
      "text/plain": [
       "<Figure size 432x288 with 1 Axes>"
      ]
     },
     "metadata": {
      "needs_background": "light"
     },
     "output_type": "display_data"
    }
   ],
   "source": [
    "plt.scatter(y_test, write_predict)\n",
    "plt.xlabel('True Values')\n",
    "plt.ylabel('Predicitons')\n",
    "plt.show()"
   ]
  },
  {
   "cell_type": "markdown",
   "metadata": {},
   "source": [
    "## Inserting X and y RandomForestClassifier"
   ]
  },
  {
   "cell_type": "code",
   "execution_count": 90,
   "metadata": {},
   "outputs": [
    {
     "data": {
      "text/plain": [
       "RandomForestClassifier(bootstrap=True, class_weight=None, criterion='gini',\n",
       "            max_depth=2, max_features='auto', max_leaf_nodes=None,\n",
       "            min_impurity_decrease=0.0, min_impurity_split=None,\n",
       "            min_samples_leaf=1, min_samples_split=2,\n",
       "            min_weight_fraction_leaf=0.0, n_estimators=100, n_jobs=None,\n",
       "            oob_score=False, random_state=0, verbose=0, warm_start=False)"
      ]
     },
     "execution_count": 90,
     "metadata": {},
     "output_type": "execute_result"
    }
   ],
   "source": [
    "cl = RandomForestClassifier(n_estimators=100, max_depth = 2, random_state=0)\n",
    "cl.fit(X,y)"
   ]
  },
  {
   "cell_type": "markdown",
   "metadata": {},
   "source": [
    "## Checking the important features"
   ]
  },
  {
   "cell_type": "code",
   "execution_count": 92,
   "metadata": {},
   "outputs": [
    {
     "data": {
      "text/html": [
       "<div>\n",
       "<style scoped>\n",
       "    .dataframe tbody tr th:only-of-type {\n",
       "        vertical-align: middle;\n",
       "    }\n",
       "\n",
       "    .dataframe tbody tr th {\n",
       "        vertical-align: top;\n",
       "    }\n",
       "\n",
       "    .dataframe thead th {\n",
       "        text-align: right;\n",
       "    }\n",
       "</style>\n",
       "<table border=\"1\" class=\"dataframe\">\n",
       "  <thead>\n",
       "    <tr style=\"text-align: right;\">\n",
       "      <th></th>\n",
       "      <th>feature</th>\n",
       "      <th>importance</th>\n",
       "    </tr>\n",
       "  </thead>\n",
       "  <tbody>\n",
       "    <tr>\n",
       "      <th>0</th>\n",
       "      <td>test preparation course_map</td>\n",
       "      <td>0.021265</td>\n",
       "    </tr>\n",
       "    <tr>\n",
       "      <th>1</th>\n",
       "      <td>gender_map</td>\n",
       "      <td>0.023367</td>\n",
       "    </tr>\n",
       "    <tr>\n",
       "      <th>2</th>\n",
       "      <td>writing score</td>\n",
       "      <td>0.420553</td>\n",
       "    </tr>\n",
       "    <tr>\n",
       "      <th>3</th>\n",
       "      <td>reading score</td>\n",
       "      <td>0.291382</td>\n",
       "    </tr>\n",
       "    <tr>\n",
       "      <th>4</th>\n",
       "      <td>grade_map</td>\n",
       "      <td>0.204098</td>\n",
       "    </tr>\n",
       "    <tr>\n",
       "      <th>5</th>\n",
       "      <td>pass/fail_map</td>\n",
       "      <td>0.039335</td>\n",
       "    </tr>\n",
       "  </tbody>\n",
       "</table>\n",
       "</div>"
      ],
      "text/plain": [
       "                       feature  importance\n",
       "0  test preparation course_map    0.021265\n",
       "1                   gender_map    0.023367\n",
       "2                writing score    0.420553\n",
       "3                reading score    0.291382\n",
       "4                    grade_map    0.204098\n",
       "5                pass/fail_map    0.039335"
      ]
     },
     "execution_count": 92,
     "metadata": {},
     "output_type": "execute_result"
    }
   ],
   "source": [
    "feature=['test preparation course_map','gender_map','writing score','reading score','grade_map','pass/fail_map']\n",
    "feature_imp=pd.DataFrame({'feature':feature,'importance':cl.feature_importances_})\n",
    "feature_imp"
   ]
  },
  {
   "cell_type": "code",
   "execution_count": 93,
   "metadata": {},
   "outputs": [
    {
     "data": {
      "text/plain": [
       "<matplotlib.axes._subplots.AxesSubplot at 0x1368a710>"
      ]
     },
     "execution_count": 93,
     "metadata": {},
     "output_type": "execute_result"
    },
    {
     "data": {
      "image/png": "[encoded data removed]",
      "text/plain": [
       "<Figure size 432x288 with 1 Axes>"
      ]
     },
     "metadata": {
      "needs_background": "light"
     },
     "output_type": "display_data"
    }
   ],
   "source": [
    "feature_imp.plot.bar()"
   ]
  },
  {
   "cell_type": "markdown",
   "metadata": {},
   "source": [
    "#### Removing the least important feature i.e. test preparation course_map and gender_map"
   ]
  },
  {
   "cell_type": "markdown",
   "metadata": {},
   "source": [
    "## Removing Least important features and inserting new features in RandomForestClassifier"
   ]
  },
  {
   "cell_type": "code",
   "execution_count": 96,
   "metadata": {},
   "outputs": [
    {
     "data": {
      "text/plain": [
       "RandomForestClassifier(bootstrap=True, class_weight=None, criterion='gini',\n",
       "            max_depth=2, max_features='auto', max_leaf_nodes=None,\n",
       "            min_impurity_decrease=0.0, min_impurity_split=None,\n",
       "            min_samples_leaf=1, min_samples_split=2,\n",
       "            min_weight_fraction_leaf=0.0, n_estimators=100, n_jobs=None,\n",
       "            oob_score=False, random_state=0, verbose=0, warm_start=False)"
      ]
     },
     "execution_count": 96,
     "metadata": {},
     "output_type": "execute_result"
    }
   ],
   "source": [
    "X1=df[['writing score','reading score','grade_map','pass/fail_map']]\n",
    "cl.fit(X1,y)"
   ]
  },
  {
   "cell_type": "markdown",
   "metadata": {},
   "source": [
    "## Checking important features"
   ]
  },
  {
   "cell_type": "code",
   "execution_count": 102,
   "metadata": {},
   "outputs": [
    {
     "data": {
      "text/html": [
       "<div>\n",
       "<style scoped>\n",
       "    .dataframe tbody tr th:only-of-type {\n",
       "        vertical-align: middle;\n",
       "    }\n",
       "\n",
       "    .dataframe tbody tr th {\n",
       "        vertical-align: top;\n",
       "    }\n",
       "\n",
       "    .dataframe thead th {\n",
       "        text-align: right;\n",
       "    }\n",
       "</style>\n",
       "<table border=\"1\" class=\"dataframe\">\n",
       "  <thead>\n",
       "    <tr style=\"text-align: right;\">\n",
       "      <th></th>\n",
       "      <th>feature</th>\n",
       "      <th>importance</th>\n",
       "    </tr>\n",
       "  </thead>\n",
       "  <tbody>\n",
       "    <tr>\n",
       "      <th>0</th>\n",
       "      <td>reading score</td>\n",
       "      <td>0.571303</td>\n",
       "    </tr>\n",
       "    <tr>\n",
       "      <th>1</th>\n",
       "      <td>math score</td>\n",
       "      <td>0.287060</td>\n",
       "    </tr>\n",
       "    <tr>\n",
       "      <th>2</th>\n",
       "      <td>grade_map</td>\n",
       "      <td>0.141637</td>\n",
       "    </tr>\n",
       "    <tr>\n",
       "      <th>3</th>\n",
       "      <td>pass/fail_map</td>\n",
       "      <td>0.000000</td>\n",
       "    </tr>\n",
       "  </tbody>\n",
       "</table>\n",
       "</div>"
      ],
      "text/plain": [
       "         feature  importance\n",
       "0  reading score    0.571303\n",
       "1     math score    0.287060\n",
       "2      grade_map    0.141637\n",
       "3  pass/fail_map    0.000000"
      ]
     },
     "execution_count": 102,
     "metadata": {},
     "output_type": "execute_result"
    }
   ],
   "source": [
    "feature1 = ['reading score','math score','grade_map','pass/fail_map']\n",
    "feature1_imp = pd.DataFrame({'feature':feature1,'importance':cl.feature_importances_})\n",
    "feature1_imp"
   ]
  },
  {
   "cell_type": "code",
   "execution_count": 103,
   "metadata": {},
   "outputs": [
    {
     "data": {
      "text/plain": [
       "<matplotlib.axes._subplots.AxesSubplot at 0x13710830>"
      ]
     },
     "execution_count": 103,
     "metadata": {},
     "output_type": "execute_result"
    },
    {
     "data": {
      "image/png": "[encoded data removed]",
      "text/plain": [
       "<Figure size 432x288 with 1 Axes>"
      ]
     },
     "metadata": {
      "needs_background": "light"
     },
     "output_type": "display_data"
    }
   ],
   "source": [
    "feature1_imp.plot.bar()"
   ]
  },
  {
   "cell_type": "markdown",
   "metadata": {},
   "source": [
    "#### As we can see that pass/fail_map has no importance; let us remove it"
   ]
  },
  {
   "cell_type": "code",
   "execution_count": 105,
   "metadata": {},
   "outputs": [
    {
     "data": {
      "text/plain": [
       "RandomForestClassifier(bootstrap=True, class_weight=None, criterion='gini',\n",
       "            max_depth=2, max_features='auto', max_leaf_nodes=None,\n",
       "            min_impurity_decrease=0.0, min_impurity_split=None,\n",
       "            min_samples_leaf=1, min_samples_split=2,\n",
       "            min_weight_fraction_leaf=0.0, n_estimators=100, n_jobs=None,\n",
       "            oob_score=False, random_state=0, verbose=0, warm_start=False)"
      ]
     },
     "execution_count": 105,
     "metadata": {},
     "output_type": "execute_result"
    }
   ],
   "source": [
    "X2=df[['writing score','reading score','grade_map']]\n",
    "cl.fit(X2,y)"
   ]
  },
  {
   "cell_type": "code",
   "execution_count": 106,
   "metadata": {},
   "outputs": [
    {
     "data": {
      "text/html": [
       "<div>\n",
       "<style scoped>\n",
       "    .dataframe tbody tr th:only-of-type {\n",
       "        vertical-align: middle;\n",
       "    }\n",
       "\n",
       "    .dataframe tbody tr th {\n",
       "        vertical-align: top;\n",
       "    }\n",
       "\n",
       "    .dataframe thead th {\n",
       "        text-align: right;\n",
       "    }\n",
       "</style>\n",
       "<table border=\"1\" class=\"dataframe\">\n",
       "  <thead>\n",
       "    <tr style=\"text-align: right;\">\n",
       "      <th></th>\n",
       "      <th>feature</th>\n",
       "      <th>importance</th>\n",
       "    </tr>\n",
       "  </thead>\n",
       "  <tbody>\n",
       "    <tr>\n",
       "      <th>0</th>\n",
       "      <td>reading score</td>\n",
       "      <td>0.393247</td>\n",
       "    </tr>\n",
       "    <tr>\n",
       "      <th>1</th>\n",
       "      <td>math score</td>\n",
       "      <td>0.370041</td>\n",
       "    </tr>\n",
       "    <tr>\n",
       "      <th>2</th>\n",
       "      <td>grade_map</td>\n",
       "      <td>0.236712</td>\n",
       "    </tr>\n",
       "  </tbody>\n",
       "</table>\n",
       "</div>"
      ],
      "text/plain": [
       "         feature  importance\n",
       "0  reading score    0.393247\n",
       "1     math score    0.370041\n",
       "2      grade_map    0.236712"
      ]
     },
     "execution_count": 106,
     "metadata": {},
     "output_type": "execute_result"
    }
   ],
   "source": [
    "feature2 = ['reading score','math score','grade_map']\n",
    "feature2_imp=pd.DataFrame({'feature':feature2,'importance':cl.feature_importances_})\n",
    "feature2_imp"
   ]
  },
  {
   "cell_type": "code",
   "execution_count": 107,
   "metadata": {},
   "outputs": [
    {
     "data": {
      "text/plain": [
       "<matplotlib.axes._subplots.AxesSubplot at 0x1375c930>"
      ]
     },
     "execution_count": 107,
     "metadata": {},
     "output_type": "execute_result"
    },
    {
     "data": {
      "image/png": "[encoded data removed]",
      "text/plain": [
       "<Figure size 432x288 with 1 Axes>"
      ]
     },
     "metadata": {
      "needs_background": "light"
     },
     "output_type": "display_data"
    }
   ],
   "source": [
    "feature2_imp.plot.bar()"
   ]
  },
  {
   "cell_type": "markdown",
   "metadata": {},
   "source": [
    "## Predicting writing score without test preparation course,gender and pass/fail"
   ]
  },
  {
   "cell_type": "code",
   "execution_count": 109,
   "metadata": {},
   "outputs": [],
   "source": [
    "X1_train,X1_test,y1_train,y1_test= tt(X2,y,test_size=0.2,random_state=234)"
   ]
  },
  {
   "cell_type": "markdown",
   "metadata": {},
   "source": [
    "## Fitting X1_train and y1_train in linear model"
   ]
  },
  {
   "cell_type": "code",
   "execution_count": 111,
   "metadata": {},
   "outputs": [
    {
     "data": {
      "text/plain": [
       "LinearRegression(copy_X=True, fit_intercept=True, n_jobs=None,\n",
       "         normalize=False)"
      ]
     },
     "execution_count": 111,
     "metadata": {},
     "output_type": "execute_result"
    }
   ],
   "source": [
    "model.fit(X1_train,y1_train)"
   ]
  },
  {
   "cell_type": "code",
   "execution_count": 112,
   "metadata": {},
   "outputs": [
    {
     "data": {
      "text/plain": [
       "1.0"
      ]
     },
     "execution_count": 112,
     "metadata": {},
     "output_type": "execute_result"
    }
   ],
   "source": [
    "model.score(X1_test,y1_test)"
   ]
  },
  {
   "cell_type": "code",
   "execution_count": 114,
   "metadata": {},
   "outputs": [
    {
     "data": {
      "text/plain": [
       "array([ 51.,  85.,  77.,  68.,  63.,  70.,  81.,  80.,  54.,  91.,  76.,\n",
       "        43.,  86.,  77.,  95.,  46.,  80.,  32.,  74.,  63.,  85.,  77.,\n",
       "        64.,  65.,  72.,  72.,  67.,  68.,  38.,  70.,  84.,  80.,  73.,\n",
       "        54.,  66.,  90.,  75.,  82.,  62.,  57.,  88.,  90.,  62.,  61.,\n",
       "        60.,  75.,  79.,  75.,  62.,  64.,  73.,  78.,  32.,  60.,  61.,\n",
       "        82.,  72.,  56.,  54.,  51.,  47.,  59.,  54.,  69.,  64.,  80.,\n",
       "        78.,  37.,  75.,  62.,  87.,  82.,  62.,  66.,  46.,  64.,  83.,\n",
       "        76.,  70.,  57.,  82.,  48.,  77.,  82.,  86.,  80.,  19.,  61.,\n",
       "        51.,  60.,  76.,  60.,  70.,  74.,  68.,  64.,  74.,  62.,  41.,\n",
       "        58.,  91.,  67.,  77.,  52.,  81.,  66.,  60.,  61.,  78.,  68.,\n",
       "        68.,  68.,  34.,  77.,  65., 100.,  68.,  49.,  79.,  74.,  58.,\n",
       "        62.,  77.,  78.,  61.,  69.,  72.,  75.,  75.,  42.,  88.,  68.,\n",
       "        58.,  76.,  64.,  67.,  69.,  82.,  76.,  63.,  62.,  60.,  83.,\n",
       "        74.,  81.,  71.,  80.,  59.,  34.,  44.,  74.,  73.,  52.,  89.,\n",
       "        62.,  75.,  45.,  79.,  68.,  82.,  94.,  61.,  68.,  61.,  38.,\n",
       "        86.,  77.,  54.,  78.,  85.,  86.,  78.,  52.,  79.,  69., 100.,\n",
       "        58.,  81.,  54.,  41.,  53.,  70.,  74.,  54.,  50.,  84.,  94.,\n",
       "        58.,  79.,  47.,  72.,  30.,  69.,  99.,  60.,  67.,  67.,  72.,\n",
       "        50.,  99.])"
      ]
     },
     "execution_count": 114,
     "metadata": {},
     "output_type": "execute_result"
    }
   ],
   "source": [
    "prediction1 = model.predict(X1_test)\n",
    "prediction1"
   ]
  },
  {
   "cell_type": "markdown",
   "metadata": {},
   "source": [
    "## Comparing Predictions with and without test preparation course, gender and pass/fail"
   ]
  },
  {
   "cell_type": "code",
   "execution_count": 117,
   "metadata": {},
   "outputs": [
    {
     "data": {
      "text/html": [
       "<div>\n",
       "<style scoped>\n",
       "    .dataframe tbody tr th:only-of-type {\n",
       "        vertical-align: middle;\n",
       "    }\n",
       "\n",
       "    .dataframe tbody tr th {\n",
       "        vertical-align: top;\n",
       "    }\n",
       "\n",
       "    .dataframe thead th {\n",
       "        text-align: right;\n",
       "    }\n",
       "</style>\n",
       "<table border=\"1\" class=\"dataframe\">\n",
       "  <thead>\n",
       "    <tr style=\"text-align: right;\">\n",
       "      <th></th>\n",
       "      <th>with test preparation course</th>\n",
       "      <th>Without test preparation course</th>\n",
       "    </tr>\n",
       "  </thead>\n",
       "  <tbody>\n",
       "    <tr>\n",
       "      <th>0</th>\n",
       "      <td>51.0</td>\n",
       "      <td>51.0</td>\n",
       "    </tr>\n",
       "    <tr>\n",
       "      <th>1</th>\n",
       "      <td>85.0</td>\n",
       "      <td>85.0</td>\n",
       "    </tr>\n",
       "    <tr>\n",
       "      <th>2</th>\n",
       "      <td>77.0</td>\n",
       "      <td>77.0</td>\n",
       "    </tr>\n",
       "    <tr>\n",
       "      <th>3</th>\n",
       "      <td>68.0</td>\n",
       "      <td>68.0</td>\n",
       "    </tr>\n",
       "    <tr>\n",
       "      <th>4</th>\n",
       "      <td>63.0</td>\n",
       "      <td>63.0</td>\n",
       "    </tr>\n",
       "    <tr>\n",
       "      <th>5</th>\n",
       "      <td>70.0</td>\n",
       "      <td>70.0</td>\n",
       "    </tr>\n",
       "    <tr>\n",
       "      <th>6</th>\n",
       "      <td>81.0</td>\n",
       "      <td>81.0</td>\n",
       "    </tr>\n",
       "    <tr>\n",
       "      <th>7</th>\n",
       "      <td>80.0</td>\n",
       "      <td>80.0</td>\n",
       "    </tr>\n",
       "    <tr>\n",
       "      <th>8</th>\n",
       "      <td>54.0</td>\n",
       "      <td>54.0</td>\n",
       "    </tr>\n",
       "    <tr>\n",
       "      <th>9</th>\n",
       "      <td>91.0</td>\n",
       "      <td>91.0</td>\n",
       "    </tr>\n",
       "    <tr>\n",
       "      <th>10</th>\n",
       "      <td>76.0</td>\n",
       "      <td>76.0</td>\n",
       "    </tr>\n",
       "    <tr>\n",
       "      <th>11</th>\n",
       "      <td>43.0</td>\n",
       "      <td>43.0</td>\n",
       "    </tr>\n",
       "    <tr>\n",
       "      <th>12</th>\n",
       "      <td>86.0</td>\n",
       "      <td>86.0</td>\n",
       "    </tr>\n",
       "    <tr>\n",
       "      <th>13</th>\n",
       "      <td>77.0</td>\n",
       "      <td>77.0</td>\n",
       "    </tr>\n",
       "    <tr>\n",
       "      <th>14</th>\n",
       "      <td>95.0</td>\n",
       "      <td>95.0</td>\n",
       "    </tr>\n",
       "    <tr>\n",
       "      <th>15</th>\n",
       "      <td>46.0</td>\n",
       "      <td>46.0</td>\n",
       "    </tr>\n",
       "    <tr>\n",
       "      <th>16</th>\n",
       "      <td>80.0</td>\n",
       "      <td>80.0</td>\n",
       "    </tr>\n",
       "    <tr>\n",
       "      <th>17</th>\n",
       "      <td>32.0</td>\n",
       "      <td>32.0</td>\n",
       "    </tr>\n",
       "    <tr>\n",
       "      <th>18</th>\n",
       "      <td>74.0</td>\n",
       "      <td>74.0</td>\n",
       "    </tr>\n",
       "    <tr>\n",
       "      <th>19</th>\n",
       "      <td>63.0</td>\n",
       "      <td>63.0</td>\n",
       "    </tr>\n",
       "    <tr>\n",
       "      <th>20</th>\n",
       "      <td>85.0</td>\n",
       "      <td>85.0</td>\n",
       "    </tr>\n",
       "    <tr>\n",
       "      <th>21</th>\n",
       "      <td>77.0</td>\n",
       "      <td>77.0</td>\n",
       "    </tr>\n",
       "    <tr>\n",
       "      <th>22</th>\n",
       "      <td>64.0</td>\n",
       "      <td>64.0</td>\n",
       "    </tr>\n",
       "    <tr>\n",
       "      <th>23</th>\n",
       "      <td>65.0</td>\n",
       "      <td>65.0</td>\n",
       "    </tr>\n",
       "    <tr>\n",
       "      <th>24</th>\n",
       "      <td>72.0</td>\n",
       "      <td>72.0</td>\n",
       "    </tr>\n",
       "    <tr>\n",
       "      <th>25</th>\n",
       "      <td>72.0</td>\n",
       "      <td>72.0</td>\n",
       "    </tr>\n",
       "    <tr>\n",
       "      <th>26</th>\n",
       "      <td>67.0</td>\n",
       "      <td>67.0</td>\n",
       "    </tr>\n",
       "    <tr>\n",
       "      <th>27</th>\n",
       "      <td>68.0</td>\n",
       "      <td>68.0</td>\n",
       "    </tr>\n",
       "    <tr>\n",
       "      <th>28</th>\n",
       "      <td>38.0</td>\n",
       "      <td>38.0</td>\n",
       "    </tr>\n",
       "    <tr>\n",
       "      <th>29</th>\n",
       "      <td>70.0</td>\n",
       "      <td>70.0</td>\n",
       "    </tr>\n",
       "    <tr>\n",
       "      <th>...</th>\n",
       "      <td>...</td>\n",
       "      <td>...</td>\n",
       "    </tr>\n",
       "    <tr>\n",
       "      <th>170</th>\n",
       "      <td>86.0</td>\n",
       "      <td>86.0</td>\n",
       "    </tr>\n",
       "    <tr>\n",
       "      <th>171</th>\n",
       "      <td>78.0</td>\n",
       "      <td>78.0</td>\n",
       "    </tr>\n",
       "    <tr>\n",
       "      <th>172</th>\n",
       "      <td>52.0</td>\n",
       "      <td>52.0</td>\n",
       "    </tr>\n",
       "    <tr>\n",
       "      <th>173</th>\n",
       "      <td>79.0</td>\n",
       "      <td>79.0</td>\n",
       "    </tr>\n",
       "    <tr>\n",
       "      <th>174</th>\n",
       "      <td>69.0</td>\n",
       "      <td>69.0</td>\n",
       "    </tr>\n",
       "    <tr>\n",
       "      <th>175</th>\n",
       "      <td>100.0</td>\n",
       "      <td>100.0</td>\n",
       "    </tr>\n",
       "    <tr>\n",
       "      <th>176</th>\n",
       "      <td>58.0</td>\n",
       "      <td>58.0</td>\n",
       "    </tr>\n",
       "    <tr>\n",
       "      <th>177</th>\n",
       "      <td>81.0</td>\n",
       "      <td>81.0</td>\n",
       "    </tr>\n",
       "    <tr>\n",
       "      <th>178</th>\n",
       "      <td>54.0</td>\n",
       "      <td>54.0</td>\n",
       "    </tr>\n",
       "    <tr>\n",
       "      <th>179</th>\n",
       "      <td>41.0</td>\n",
       "      <td>41.0</td>\n",
       "    </tr>\n",
       "    <tr>\n",
       "      <th>180</th>\n",
       "      <td>53.0</td>\n",
       "      <td>53.0</td>\n",
       "    </tr>\n",
       "    <tr>\n",
       "      <th>181</th>\n",
       "      <td>70.0</td>\n",
       "      <td>70.0</td>\n",
       "    </tr>\n",
       "    <tr>\n",
       "      <th>182</th>\n",
       "      <td>74.0</td>\n",
       "      <td>74.0</td>\n",
       "    </tr>\n",
       "    <tr>\n",
       "      <th>183</th>\n",
       "      <td>54.0</td>\n",
       "      <td>54.0</td>\n",
       "    </tr>\n",
       "    <tr>\n",
       "      <th>184</th>\n",
       "      <td>50.0</td>\n",
       "      <td>50.0</td>\n",
       "    </tr>\n",
       "    <tr>\n",
       "      <th>185</th>\n",
       "      <td>84.0</td>\n",
       "      <td>84.0</td>\n",
       "    </tr>\n",
       "    <tr>\n",
       "      <th>186</th>\n",
       "      <td>94.0</td>\n",
       "      <td>94.0</td>\n",
       "    </tr>\n",
       "    <tr>\n",
       "      <th>187</th>\n",
       "      <td>58.0</td>\n",
       "      <td>58.0</td>\n",
       "    </tr>\n",
       "    <tr>\n",
       "      <th>188</th>\n",
       "      <td>79.0</td>\n",
       "      <td>79.0</td>\n",
       "    </tr>\n",
       "    <tr>\n",
       "      <th>189</th>\n",
       "      <td>47.0</td>\n",
       "      <td>47.0</td>\n",
       "    </tr>\n",
       "    <tr>\n",
       "      <th>190</th>\n",
       "      <td>72.0</td>\n",
       "      <td>72.0</td>\n",
       "    </tr>\n",
       "    <tr>\n",
       "      <th>191</th>\n",
       "      <td>30.0</td>\n",
       "      <td>30.0</td>\n",
       "    </tr>\n",
       "    <tr>\n",
       "      <th>192</th>\n",
       "      <td>69.0</td>\n",
       "      <td>69.0</td>\n",
       "    </tr>\n",
       "    <tr>\n",
       "      <th>193</th>\n",
       "      <td>99.0</td>\n",
       "      <td>99.0</td>\n",
       "    </tr>\n",
       "    <tr>\n",
       "      <th>194</th>\n",
       "      <td>60.0</td>\n",
       "      <td>60.0</td>\n",
       "    </tr>\n",
       "    <tr>\n",
       "      <th>195</th>\n",
       "      <td>67.0</td>\n",
       "      <td>67.0</td>\n",
       "    </tr>\n",
       "    <tr>\n",
       "      <th>196</th>\n",
       "      <td>67.0</td>\n",
       "      <td>67.0</td>\n",
       "    </tr>\n",
       "    <tr>\n",
       "      <th>197</th>\n",
       "      <td>72.0</td>\n",
       "      <td>72.0</td>\n",
       "    </tr>\n",
       "    <tr>\n",
       "      <th>198</th>\n",
       "      <td>50.0</td>\n",
       "      <td>50.0</td>\n",
       "    </tr>\n",
       "    <tr>\n",
       "      <th>199</th>\n",
       "      <td>99.0</td>\n",
       "      <td>99.0</td>\n",
       "    </tr>\n",
       "  </tbody>\n",
       "</table>\n",
       "<p>200 rows × 2 columns</p>\n",
       "</div>"
      ],
      "text/plain": [
       "     with test preparation course  Without test preparation course\n",
       "0                            51.0                             51.0\n",
       "1                            85.0                             85.0\n",
       "2                            77.0                             77.0\n",
       "3                            68.0                             68.0\n",
       "4                            63.0                             63.0\n",
       "5                            70.0                             70.0\n",
       "6                            81.0                             81.0\n",
       "7                            80.0                             80.0\n",
       "8                            54.0                             54.0\n",
       "9                            91.0                             91.0\n",
       "10                           76.0                             76.0\n",
       "11                           43.0                             43.0\n",
       "12                           86.0                             86.0\n",
       "13                           77.0                             77.0\n",
       "14                           95.0                             95.0\n",
       "15                           46.0                             46.0\n",
       "16                           80.0                             80.0\n",
       "17                           32.0                             32.0\n",
       "18                           74.0                             74.0\n",
       "19                           63.0                             63.0\n",
       "20                           85.0                             85.0\n",
       "21                           77.0                             77.0\n",
       "22                           64.0                             64.0\n",
       "23                           65.0                             65.0\n",
       "24                           72.0                             72.0\n",
       "25                           72.0                             72.0\n",
       "26                           67.0                             67.0\n",
       "27                           68.0                             68.0\n",
       "28                           38.0                             38.0\n",
       "29                           70.0                             70.0\n",
       "..                            ...                              ...\n",
       "170                          86.0                             86.0\n",
       "171                          78.0                             78.0\n",
       "172                          52.0                             52.0\n",
       "173                          79.0                             79.0\n",
       "174                          69.0                             69.0\n",
       "175                         100.0                            100.0\n",
       "176                          58.0                             58.0\n",
       "177                          81.0                             81.0\n",
       "178                          54.0                             54.0\n",
       "179                          41.0                             41.0\n",
       "180                          53.0                             53.0\n",
       "181                          70.0                             70.0\n",
       "182                          74.0                             74.0\n",
       "183                          54.0                             54.0\n",
       "184                          50.0                             50.0\n",
       "185                          84.0                             84.0\n",
       "186                          94.0                             94.0\n",
       "187                          58.0                             58.0\n",
       "188                          79.0                             79.0\n",
       "189                          47.0                             47.0\n",
       "190                          72.0                             72.0\n",
       "191                          30.0                             30.0\n",
       "192                          69.0                             69.0\n",
       "193                          99.0                             99.0\n",
       "194                          60.0                             60.0\n",
       "195                          67.0                             67.0\n",
       "196                          67.0                             67.0\n",
       "197                          72.0                             72.0\n",
       "198                          50.0                             50.0\n",
       "199                          99.0                             99.0\n",
       "\n",
       "[200 rows x 2 columns]"
      ]
     },
     "execution_count": 117,
     "metadata": {},
     "output_type": "execute_result"
    }
   ],
   "source": [
    "compare_two_predictions = pd.DataFrame({'with test preparation course':write_predict,'Without test preparation course':prediction1})\n",
    "compare_two_predictions"
   ]
  },
  {
   "cell_type": "code",
   "execution_count": null,
   "metadata": {},
   "outputs": [],
   "source": []
  }
 ],
 "metadata": {
  "kernelspec": {
   "display_name": "Python 3",
   "language": "python",
   "name": "python3"
  },
  "language_info": {
   "codemirror_mode": {
    "name": "ipython",
    "version": 3
   },
   "file_extension": ".py",
   "mimetype": "text/x-python",
   "name": "python",
   "nbconvert_exporter": "python",
   "pygments_lexer": "ipython3",
   "version": "3.7.2"
  }
 },
 "nbformat": 4,
 "nbformat_minor": 2
}
